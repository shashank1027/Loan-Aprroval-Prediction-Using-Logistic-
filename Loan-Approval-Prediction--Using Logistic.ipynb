{
 "cells": [
  {
   "cell_type": "code",
   "execution_count": 3,
   "id": "a8ddd3dc",
   "metadata": {
    "papermill": {
     "duration": 4.679672,
     "end_time": "2025-04-26T14:39:56.625332",
     "exception": false,
     "start_time": "2025-04-26T14:39:51.945660",
     "status": "completed"
    },
    "tags": []
   },
   "outputs": [],
   "source": [
    "import pandas as pd\n",
    "import numpy as np\n",
    "import matplotlib.pyplot as plt\n",
    "import seaborn as sns\n",
    "from sklearn.model_selection import train_test_split"
   ]
  },
  {
   "cell_type": "code",
   "execution_count": 4,
   "id": "84d21ba6",
   "metadata": {
    "papermill": {
     "duration": 0.051606,
     "end_time": "2025-04-26T14:39:56.685425",
     "exception": false,
     "start_time": "2025-04-26T14:39:56.633819",
     "status": "completed"
    },
    "tags": []
   },
   "outputs": [
    {
     "ename": "FileNotFoundError",
     "evalue": "[Errno 2] No such file or directory: '/kaggle/input/loan-approval-prediction-dataset/loan_approval_dataset.csv'",
     "output_type": "error",
     "traceback": [
      "\u001b[1;31m---------------------------------------------------------------------------\u001b[0m",
      "\u001b[1;31mFileNotFoundError\u001b[0m                         Traceback (most recent call last)",
      "Cell \u001b[1;32mIn[4], line 1\u001b[0m\n\u001b[1;32m----> 1\u001b[0m data \u001b[38;5;241m=\u001b[39m \u001b[43mpd\u001b[49m\u001b[38;5;241;43m.\u001b[39;49m\u001b[43mread_csv\u001b[49m\u001b[43m(\u001b[49m\u001b[38;5;124;43m\"\u001b[39;49m\u001b[38;5;124;43m/kaggle/input/loan-approval-prediction-dataset/loan_approval_dataset.csv\u001b[39;49m\u001b[38;5;124;43m\"\u001b[39;49m\u001b[43m)\u001b[49m\n",
      "File \u001b[1;32m~\\AppData\\Roaming\\jupyterlab-desktop\\envs\\env_1\\Lib\\site-packages\\pandas\\io\\parsers\\readers.py:1026\u001b[0m, in \u001b[0;36mread_csv\u001b[1;34m(filepath_or_buffer, sep, delimiter, header, names, index_col, usecols, dtype, engine, converters, true_values, false_values, skipinitialspace, skiprows, skipfooter, nrows, na_values, keep_default_na, na_filter, verbose, skip_blank_lines, parse_dates, infer_datetime_format, keep_date_col, date_parser, date_format, dayfirst, cache_dates, iterator, chunksize, compression, thousands, decimal, lineterminator, quotechar, quoting, doublequote, escapechar, comment, encoding, encoding_errors, dialect, on_bad_lines, delim_whitespace, low_memory, memory_map, float_precision, storage_options, dtype_backend)\u001b[0m\n\u001b[0;32m   1013\u001b[0m kwds_defaults \u001b[38;5;241m=\u001b[39m _refine_defaults_read(\n\u001b[0;32m   1014\u001b[0m     dialect,\n\u001b[0;32m   1015\u001b[0m     delimiter,\n\u001b[1;32m   (...)\u001b[0m\n\u001b[0;32m   1022\u001b[0m     dtype_backend\u001b[38;5;241m=\u001b[39mdtype_backend,\n\u001b[0;32m   1023\u001b[0m )\n\u001b[0;32m   1024\u001b[0m kwds\u001b[38;5;241m.\u001b[39mupdate(kwds_defaults)\n\u001b[1;32m-> 1026\u001b[0m \u001b[38;5;28;01mreturn\u001b[39;00m \u001b[43m_read\u001b[49m\u001b[43m(\u001b[49m\u001b[43mfilepath_or_buffer\u001b[49m\u001b[43m,\u001b[49m\u001b[43m \u001b[49m\u001b[43mkwds\u001b[49m\u001b[43m)\u001b[49m\n",
      "File \u001b[1;32m~\\AppData\\Roaming\\jupyterlab-desktop\\envs\\env_1\\Lib\\site-packages\\pandas\\io\\parsers\\readers.py:620\u001b[0m, in \u001b[0;36m_read\u001b[1;34m(filepath_or_buffer, kwds)\u001b[0m\n\u001b[0;32m    617\u001b[0m _validate_names(kwds\u001b[38;5;241m.\u001b[39mget(\u001b[38;5;124m\"\u001b[39m\u001b[38;5;124mnames\u001b[39m\u001b[38;5;124m\"\u001b[39m, \u001b[38;5;28;01mNone\u001b[39;00m))\n\u001b[0;32m    619\u001b[0m \u001b[38;5;66;03m# Create the parser.\u001b[39;00m\n\u001b[1;32m--> 620\u001b[0m parser \u001b[38;5;241m=\u001b[39m \u001b[43mTextFileReader\u001b[49m\u001b[43m(\u001b[49m\u001b[43mfilepath_or_buffer\u001b[49m\u001b[43m,\u001b[49m\u001b[43m \u001b[49m\u001b[38;5;241;43m*\u001b[39;49m\u001b[38;5;241;43m*\u001b[39;49m\u001b[43mkwds\u001b[49m\u001b[43m)\u001b[49m\n\u001b[0;32m    622\u001b[0m \u001b[38;5;28;01mif\u001b[39;00m chunksize \u001b[38;5;129;01mor\u001b[39;00m iterator:\n\u001b[0;32m    623\u001b[0m     \u001b[38;5;28;01mreturn\u001b[39;00m parser\n",
      "File \u001b[1;32m~\\AppData\\Roaming\\jupyterlab-desktop\\envs\\env_1\\Lib\\site-packages\\pandas\\io\\parsers\\readers.py:1620\u001b[0m, in \u001b[0;36mTextFileReader.__init__\u001b[1;34m(self, f, engine, **kwds)\u001b[0m\n\u001b[0;32m   1617\u001b[0m     \u001b[38;5;28mself\u001b[39m\u001b[38;5;241m.\u001b[39moptions[\u001b[38;5;124m\"\u001b[39m\u001b[38;5;124mhas_index_names\u001b[39m\u001b[38;5;124m\"\u001b[39m] \u001b[38;5;241m=\u001b[39m kwds[\u001b[38;5;124m\"\u001b[39m\u001b[38;5;124mhas_index_names\u001b[39m\u001b[38;5;124m\"\u001b[39m]\n\u001b[0;32m   1619\u001b[0m \u001b[38;5;28mself\u001b[39m\u001b[38;5;241m.\u001b[39mhandles: IOHandles \u001b[38;5;241m|\u001b[39m \u001b[38;5;28;01mNone\u001b[39;00m \u001b[38;5;241m=\u001b[39m \u001b[38;5;28;01mNone\u001b[39;00m\n\u001b[1;32m-> 1620\u001b[0m \u001b[38;5;28mself\u001b[39m\u001b[38;5;241m.\u001b[39m_engine \u001b[38;5;241m=\u001b[39m \u001b[38;5;28;43mself\u001b[39;49m\u001b[38;5;241;43m.\u001b[39;49m\u001b[43m_make_engine\u001b[49m\u001b[43m(\u001b[49m\u001b[43mf\u001b[49m\u001b[43m,\u001b[49m\u001b[43m \u001b[49m\u001b[38;5;28;43mself\u001b[39;49m\u001b[38;5;241;43m.\u001b[39;49m\u001b[43mengine\u001b[49m\u001b[43m)\u001b[49m\n",
      "File \u001b[1;32m~\\AppData\\Roaming\\jupyterlab-desktop\\envs\\env_1\\Lib\\site-packages\\pandas\\io\\parsers\\readers.py:1880\u001b[0m, in \u001b[0;36mTextFileReader._make_engine\u001b[1;34m(self, f, engine)\u001b[0m\n\u001b[0;32m   1878\u001b[0m     \u001b[38;5;28;01mif\u001b[39;00m \u001b[38;5;124m\"\u001b[39m\u001b[38;5;124mb\u001b[39m\u001b[38;5;124m\"\u001b[39m \u001b[38;5;129;01mnot\u001b[39;00m \u001b[38;5;129;01min\u001b[39;00m mode:\n\u001b[0;32m   1879\u001b[0m         mode \u001b[38;5;241m+\u001b[39m\u001b[38;5;241m=\u001b[39m \u001b[38;5;124m\"\u001b[39m\u001b[38;5;124mb\u001b[39m\u001b[38;5;124m\"\u001b[39m\n\u001b[1;32m-> 1880\u001b[0m \u001b[38;5;28mself\u001b[39m\u001b[38;5;241m.\u001b[39mhandles \u001b[38;5;241m=\u001b[39m \u001b[43mget_handle\u001b[49m\u001b[43m(\u001b[49m\n\u001b[0;32m   1881\u001b[0m \u001b[43m    \u001b[49m\u001b[43mf\u001b[49m\u001b[43m,\u001b[49m\n\u001b[0;32m   1882\u001b[0m \u001b[43m    \u001b[49m\u001b[43mmode\u001b[49m\u001b[43m,\u001b[49m\n\u001b[0;32m   1883\u001b[0m \u001b[43m    \u001b[49m\u001b[43mencoding\u001b[49m\u001b[38;5;241;43m=\u001b[39;49m\u001b[38;5;28;43mself\u001b[39;49m\u001b[38;5;241;43m.\u001b[39;49m\u001b[43moptions\u001b[49m\u001b[38;5;241;43m.\u001b[39;49m\u001b[43mget\u001b[49m\u001b[43m(\u001b[49m\u001b[38;5;124;43m\"\u001b[39;49m\u001b[38;5;124;43mencoding\u001b[39;49m\u001b[38;5;124;43m\"\u001b[39;49m\u001b[43m,\u001b[49m\u001b[43m \u001b[49m\u001b[38;5;28;43;01mNone\u001b[39;49;00m\u001b[43m)\u001b[49m\u001b[43m,\u001b[49m\n\u001b[0;32m   1884\u001b[0m \u001b[43m    \u001b[49m\u001b[43mcompression\u001b[49m\u001b[38;5;241;43m=\u001b[39;49m\u001b[38;5;28;43mself\u001b[39;49m\u001b[38;5;241;43m.\u001b[39;49m\u001b[43moptions\u001b[49m\u001b[38;5;241;43m.\u001b[39;49m\u001b[43mget\u001b[49m\u001b[43m(\u001b[49m\u001b[38;5;124;43m\"\u001b[39;49m\u001b[38;5;124;43mcompression\u001b[39;49m\u001b[38;5;124;43m\"\u001b[39;49m\u001b[43m,\u001b[49m\u001b[43m \u001b[49m\u001b[38;5;28;43;01mNone\u001b[39;49;00m\u001b[43m)\u001b[49m\u001b[43m,\u001b[49m\n\u001b[0;32m   1885\u001b[0m \u001b[43m    \u001b[49m\u001b[43mmemory_map\u001b[49m\u001b[38;5;241;43m=\u001b[39;49m\u001b[38;5;28;43mself\u001b[39;49m\u001b[38;5;241;43m.\u001b[39;49m\u001b[43moptions\u001b[49m\u001b[38;5;241;43m.\u001b[39;49m\u001b[43mget\u001b[49m\u001b[43m(\u001b[49m\u001b[38;5;124;43m\"\u001b[39;49m\u001b[38;5;124;43mmemory_map\u001b[39;49m\u001b[38;5;124;43m\"\u001b[39;49m\u001b[43m,\u001b[49m\u001b[43m \u001b[49m\u001b[38;5;28;43;01mFalse\u001b[39;49;00m\u001b[43m)\u001b[49m\u001b[43m,\u001b[49m\n\u001b[0;32m   1886\u001b[0m \u001b[43m    \u001b[49m\u001b[43mis_text\u001b[49m\u001b[38;5;241;43m=\u001b[39;49m\u001b[43mis_text\u001b[49m\u001b[43m,\u001b[49m\n\u001b[0;32m   1887\u001b[0m \u001b[43m    \u001b[49m\u001b[43merrors\u001b[49m\u001b[38;5;241;43m=\u001b[39;49m\u001b[38;5;28;43mself\u001b[39;49m\u001b[38;5;241;43m.\u001b[39;49m\u001b[43moptions\u001b[49m\u001b[38;5;241;43m.\u001b[39;49m\u001b[43mget\u001b[49m\u001b[43m(\u001b[49m\u001b[38;5;124;43m\"\u001b[39;49m\u001b[38;5;124;43mencoding_errors\u001b[39;49m\u001b[38;5;124;43m\"\u001b[39;49m\u001b[43m,\u001b[49m\u001b[43m \u001b[49m\u001b[38;5;124;43m\"\u001b[39;49m\u001b[38;5;124;43mstrict\u001b[39;49m\u001b[38;5;124;43m\"\u001b[39;49m\u001b[43m)\u001b[49m\u001b[43m,\u001b[49m\n\u001b[0;32m   1888\u001b[0m \u001b[43m    \u001b[49m\u001b[43mstorage_options\u001b[49m\u001b[38;5;241;43m=\u001b[39;49m\u001b[38;5;28;43mself\u001b[39;49m\u001b[38;5;241;43m.\u001b[39;49m\u001b[43moptions\u001b[49m\u001b[38;5;241;43m.\u001b[39;49m\u001b[43mget\u001b[49m\u001b[43m(\u001b[49m\u001b[38;5;124;43m\"\u001b[39;49m\u001b[38;5;124;43mstorage_options\u001b[39;49m\u001b[38;5;124;43m\"\u001b[39;49m\u001b[43m,\u001b[49m\u001b[43m \u001b[49m\u001b[38;5;28;43;01mNone\u001b[39;49;00m\u001b[43m)\u001b[49m\u001b[43m,\u001b[49m\n\u001b[0;32m   1889\u001b[0m \u001b[43m\u001b[49m\u001b[43m)\u001b[49m\n\u001b[0;32m   1890\u001b[0m \u001b[38;5;28;01massert\u001b[39;00m \u001b[38;5;28mself\u001b[39m\u001b[38;5;241m.\u001b[39mhandles \u001b[38;5;129;01mis\u001b[39;00m \u001b[38;5;129;01mnot\u001b[39;00m \u001b[38;5;28;01mNone\u001b[39;00m\n\u001b[0;32m   1891\u001b[0m f \u001b[38;5;241m=\u001b[39m \u001b[38;5;28mself\u001b[39m\u001b[38;5;241m.\u001b[39mhandles\u001b[38;5;241m.\u001b[39mhandle\n",
      "File \u001b[1;32m~\\AppData\\Roaming\\jupyterlab-desktop\\envs\\env_1\\Lib\\site-packages\\pandas\\io\\common.py:873\u001b[0m, in \u001b[0;36mget_handle\u001b[1;34m(path_or_buf, mode, encoding, compression, memory_map, is_text, errors, storage_options)\u001b[0m\n\u001b[0;32m    868\u001b[0m \u001b[38;5;28;01melif\u001b[39;00m \u001b[38;5;28misinstance\u001b[39m(handle, \u001b[38;5;28mstr\u001b[39m):\n\u001b[0;32m    869\u001b[0m     \u001b[38;5;66;03m# Check whether the filename is to be opened in binary mode.\u001b[39;00m\n\u001b[0;32m    870\u001b[0m     \u001b[38;5;66;03m# Binary mode does not support 'encoding' and 'newline'.\u001b[39;00m\n\u001b[0;32m    871\u001b[0m     \u001b[38;5;28;01mif\u001b[39;00m ioargs\u001b[38;5;241m.\u001b[39mencoding \u001b[38;5;129;01mand\u001b[39;00m \u001b[38;5;124m\"\u001b[39m\u001b[38;5;124mb\u001b[39m\u001b[38;5;124m\"\u001b[39m \u001b[38;5;129;01mnot\u001b[39;00m \u001b[38;5;129;01min\u001b[39;00m ioargs\u001b[38;5;241m.\u001b[39mmode:\n\u001b[0;32m    872\u001b[0m         \u001b[38;5;66;03m# Encoding\u001b[39;00m\n\u001b[1;32m--> 873\u001b[0m         handle \u001b[38;5;241m=\u001b[39m \u001b[38;5;28;43mopen\u001b[39;49m\u001b[43m(\u001b[49m\n\u001b[0;32m    874\u001b[0m \u001b[43m            \u001b[49m\u001b[43mhandle\u001b[49m\u001b[43m,\u001b[49m\n\u001b[0;32m    875\u001b[0m \u001b[43m            \u001b[49m\u001b[43mioargs\u001b[49m\u001b[38;5;241;43m.\u001b[39;49m\u001b[43mmode\u001b[49m\u001b[43m,\u001b[49m\n\u001b[0;32m    876\u001b[0m \u001b[43m            \u001b[49m\u001b[43mencoding\u001b[49m\u001b[38;5;241;43m=\u001b[39;49m\u001b[43mioargs\u001b[49m\u001b[38;5;241;43m.\u001b[39;49m\u001b[43mencoding\u001b[49m\u001b[43m,\u001b[49m\n\u001b[0;32m    877\u001b[0m \u001b[43m            \u001b[49m\u001b[43merrors\u001b[49m\u001b[38;5;241;43m=\u001b[39;49m\u001b[43merrors\u001b[49m\u001b[43m,\u001b[49m\n\u001b[0;32m    878\u001b[0m \u001b[43m            \u001b[49m\u001b[43mnewline\u001b[49m\u001b[38;5;241;43m=\u001b[39;49m\u001b[38;5;124;43m\"\u001b[39;49m\u001b[38;5;124;43m\"\u001b[39;49m\u001b[43m,\u001b[49m\n\u001b[0;32m    879\u001b[0m \u001b[43m        \u001b[49m\u001b[43m)\u001b[49m\n\u001b[0;32m    880\u001b[0m     \u001b[38;5;28;01melse\u001b[39;00m:\n\u001b[0;32m    881\u001b[0m         \u001b[38;5;66;03m# Binary mode\u001b[39;00m\n\u001b[0;32m    882\u001b[0m         handle \u001b[38;5;241m=\u001b[39m \u001b[38;5;28mopen\u001b[39m(handle, ioargs\u001b[38;5;241m.\u001b[39mmode)\n",
      "\u001b[1;31mFileNotFoundError\u001b[0m: [Errno 2] No such file or directory: '/kaggle/input/loan-approval-prediction-dataset/loan_approval_dataset.csv'"
     ]
    }
   ],
   "source": [
    "data = pd.read_csv(\"/kaggle/input/loan-approval-prediction-dataset/loan_approval_dataset.csv\")"
   ]
  },
  {
   "cell_type": "code",
   "execution_count": 4,
   "id": "7a97cc55",
   "metadata": {
    "execution": {
     "iopub.execute_input": "2025-04-26T14:39:56.705136Z",
     "iopub.status.busy": "2025-04-26T14:39:56.704716Z",
     "iopub.status.idle": "2025-04-26T14:39:56.733878Z",
     "shell.execute_reply": "2025-04-26T14:39:56.732844Z"
    },
    "papermill": {
     "duration": 0.040935,
     "end_time": "2025-04-26T14:39:56.735590",
     "exception": false,
     "start_time": "2025-04-26T14:39:56.694655",
     "status": "completed"
    },
    "tags": []
   },
   "outputs": [
    {
     "data": {
      "text/html": [
       "<div>\n",
       "<style scoped>\n",
       "    .dataframe tbody tr th:only-of-type {\n",
       "        vertical-align: middle;\n",
       "    }\n",
       "\n",
       "    .dataframe tbody tr th {\n",
       "        vertical-align: top;\n",
       "    }\n",
       "\n",
       "    .dataframe thead th {\n",
       "        text-align: right;\n",
       "    }\n",
       "</style>\n",
       "<table border=\"1\" class=\"dataframe\">\n",
       "  <thead>\n",
       "    <tr style=\"text-align: right;\">\n",
       "      <th></th>\n",
       "      <th>loan_id</th>\n",
       "      <th>no_of_dependents</th>\n",
       "      <th>education</th>\n",
       "      <th>self_employed</th>\n",
       "      <th>income_annum</th>\n",
       "      <th>loan_amount</th>\n",
       "      <th>loan_term</th>\n",
       "      <th>cibil_score</th>\n",
       "      <th>residential_assets_value</th>\n",
       "      <th>commercial_assets_value</th>\n",
       "      <th>luxury_assets_value</th>\n",
       "      <th>bank_asset_value</th>\n",
       "      <th>loan_status</th>\n",
       "    </tr>\n",
       "  </thead>\n",
       "  <tbody>\n",
       "    <tr>\n",
       "      <th>0</th>\n",
       "      <td>1</td>\n",
       "      <td>2</td>\n",
       "      <td>Graduate</td>\n",
       "      <td>No</td>\n",
       "      <td>9600000</td>\n",
       "      <td>29900000</td>\n",
       "      <td>12</td>\n",
       "      <td>778</td>\n",
       "      <td>2400000</td>\n",
       "      <td>17600000</td>\n",
       "      <td>22700000</td>\n",
       "      <td>8000000</td>\n",
       "      <td>Approved</td>\n",
       "    </tr>\n",
       "    <tr>\n",
       "      <th>1</th>\n",
       "      <td>2</td>\n",
       "      <td>0</td>\n",
       "      <td>Not Graduate</td>\n",
       "      <td>Yes</td>\n",
       "      <td>4100000</td>\n",
       "      <td>12200000</td>\n",
       "      <td>8</td>\n",
       "      <td>417</td>\n",
       "      <td>2700000</td>\n",
       "      <td>2200000</td>\n",
       "      <td>8800000</td>\n",
       "      <td>3300000</td>\n",
       "      <td>Rejected</td>\n",
       "    </tr>\n",
       "    <tr>\n",
       "      <th>2</th>\n",
       "      <td>3</td>\n",
       "      <td>3</td>\n",
       "      <td>Graduate</td>\n",
       "      <td>No</td>\n",
       "      <td>9100000</td>\n",
       "      <td>29700000</td>\n",
       "      <td>20</td>\n",
       "      <td>506</td>\n",
       "      <td>7100000</td>\n",
       "      <td>4500000</td>\n",
       "      <td>33300000</td>\n",
       "      <td>12800000</td>\n",
       "      <td>Rejected</td>\n",
       "    </tr>\n",
       "    <tr>\n",
       "      <th>3</th>\n",
       "      <td>4</td>\n",
       "      <td>3</td>\n",
       "      <td>Graduate</td>\n",
       "      <td>No</td>\n",
       "      <td>8200000</td>\n",
       "      <td>30700000</td>\n",
       "      <td>8</td>\n",
       "      <td>467</td>\n",
       "      <td>18200000</td>\n",
       "      <td>3300000</td>\n",
       "      <td>23300000</td>\n",
       "      <td>7900000</td>\n",
       "      <td>Rejected</td>\n",
       "    </tr>\n",
       "    <tr>\n",
       "      <th>4</th>\n",
       "      <td>5</td>\n",
       "      <td>5</td>\n",
       "      <td>Not Graduate</td>\n",
       "      <td>Yes</td>\n",
       "      <td>9800000</td>\n",
       "      <td>24200000</td>\n",
       "      <td>20</td>\n",
       "      <td>382</td>\n",
       "      <td>12400000</td>\n",
       "      <td>8200000</td>\n",
       "      <td>29400000</td>\n",
       "      <td>5000000</td>\n",
       "      <td>Rejected</td>\n",
       "    </tr>\n",
       "  </tbody>\n",
       "</table>\n",
       "</div>"
      ],
      "text/plain": [
       "   loan_id   no_of_dependents      education  self_employed   income_annum  \\\n",
       "0        1                  2       Graduate             No        9600000   \n",
       "1        2                  0   Not Graduate            Yes        4100000   \n",
       "2        3                  3       Graduate             No        9100000   \n",
       "3        4                  3       Graduate             No        8200000   \n",
       "4        5                  5   Not Graduate            Yes        9800000   \n",
       "\n",
       "    loan_amount   loan_term   cibil_score   residential_assets_value  \\\n",
       "0      29900000          12           778                    2400000   \n",
       "1      12200000           8           417                    2700000   \n",
       "2      29700000          20           506                    7100000   \n",
       "3      30700000           8           467                   18200000   \n",
       "4      24200000          20           382                   12400000   \n",
       "\n",
       "    commercial_assets_value   luxury_assets_value   bank_asset_value  \\\n",
       "0                  17600000              22700000            8000000   \n",
       "1                   2200000               8800000            3300000   \n",
       "2                   4500000              33300000           12800000   \n",
       "3                   3300000              23300000            7900000   \n",
       "4                   8200000              29400000            5000000   \n",
       "\n",
       "   loan_status  \n",
       "0     Approved  \n",
       "1     Rejected  \n",
       "2     Rejected  \n",
       "3     Rejected  \n",
       "4     Rejected  "
      ]
     },
     "execution_count": 4,
     "metadata": {},
     "output_type": "execute_result"
    }
   ],
   "source": [
    "data.head()"
   ]
  },
  {
   "cell_type": "markdown",
   "id": "7917b94d",
   "metadata": {
    "papermill": {
     "duration": 0.007794,
     "end_time": "2025-04-26T14:39:56.768502",
     "exception": false,
     "start_time": "2025-04-26T14:39:56.760708",
     "status": "completed"
    },
    "tags": []
   },
   "source": [
    "#### finding missing and duplicated values "
   ]
  },
  {
   "cell_type": "code",
   "execution_count": 5,
   "id": "5873e985",
   "metadata": {
    "execution": {
     "iopub.execute_input": "2025-04-26T14:39:56.786916Z",
     "iopub.status.busy": "2025-04-26T14:39:56.786549Z",
     "iopub.status.idle": "2025-04-26T14:39:56.795062Z",
     "shell.execute_reply": "2025-04-26T14:39:56.794132Z"
    },
    "papermill": {
     "duration": 0.019492,
     "end_time": "2025-04-26T14:39:56.796748",
     "exception": false,
     "start_time": "2025-04-26T14:39:56.777256",
     "status": "completed"
    },
    "tags": []
   },
   "outputs": [
    {
     "data": {
      "text/plain": [
       "loan_id                      0\n",
       " no_of_dependents            0\n",
       " education                   0\n",
       " self_employed               0\n",
       " income_annum                0\n",
       " loan_amount                 0\n",
       " loan_term                   0\n",
       " cibil_score                 0\n",
       " residential_assets_value    0\n",
       " commercial_assets_value     0\n",
       " luxury_assets_value         0\n",
       " bank_asset_value            0\n",
       " loan_status                 0\n",
       "dtype: int64"
      ]
     },
     "execution_count": 5,
     "metadata": {},
     "output_type": "execute_result"
    }
   ],
   "source": [
    "data.isna().sum()"
   ]
  },
  {
   "cell_type": "markdown",
   "id": "477dc072",
   "metadata": {
    "papermill": {
     "duration": 0.008031,
     "end_time": "2025-04-26T14:39:56.813151",
     "exception": false,
     "start_time": "2025-04-26T14:39:56.805120",
     "status": "completed"
    },
    "tags": []
   },
   "source": [
    "There is no  missing values. The data is all clean"
   ]
  },
  {
   "cell_type": "code",
   "execution_count": 1,
   "id": "969a6a2a",
   "metadata": {
    "papermill": {
     "duration": 0.030574,
     "end_time": "2025-04-26T14:39:56.851942",
     "exception": false,
     "start_time": "2025-04-26T14:39:56.821368",
     "status": "completed"
    },
    "tags": []
   },
   "outputs": [
    {
     "ename": "NameError",
     "evalue": "name 'data' is not defined",
     "output_type": "error",
     "traceback": [
      "\u001b[1;31m---------------------------------------------------------------------------\u001b[0m",
      "\u001b[1;31mNameError\u001b[0m                                 Traceback (most recent call last)",
      "Cell \u001b[1;32mIn[1], line 1\u001b[0m\n\u001b[1;32m----> 1\u001b[0m \u001b[43mdata\u001b[49m\u001b[38;5;241m.\u001b[39mduplicated()\u001b[38;5;241m.\u001b[39msum()\n",
      "\u001b[1;31mNameError\u001b[0m: name 'data' is not defined"
     ]
    }
   ],
   "source": [
    "\n",
    "data.duplicated().sum()"
   ]
  },
  {
   "cell_type": "markdown",
   "id": "682fb6e4",
   "metadata": {
    "papermill": {
     "duration": 0.008447,
     "end_time": "2025-04-26T14:39:56.868771",
     "exception": false,
     "start_time": "2025-04-26T14:39:56.860324",
     "status": "completed"
    },
    "tags": []
   },
   "source": [
    "There is no duplicated data either"
   ]
  },
  {
   "cell_type": "code",
   "execution_count": 7,
   "id": "7f3348ef",
   "metadata": {
    "execution": {
     "iopub.execute_input": "2025-04-26T14:39:56.887276Z",
     "iopub.status.busy": "2025-04-26T14:39:56.886908Z",
     "iopub.status.idle": "2025-04-26T14:39:56.910417Z",
     "shell.execute_reply": "2025-04-26T14:39:56.908998Z"
    },
    "papermill": {
     "duration": 0.034934,
     "end_time": "2025-04-26T14:39:56.912092",
     "exception": false,
     "start_time": "2025-04-26T14:39:56.877158",
     "status": "completed"
    },
    "tags": []
   },
   "outputs": [
    {
     "name": "stdout",
     "output_type": "stream",
     "text": [
      "<class 'pandas.core.frame.DataFrame'>\n",
      "RangeIndex: 4269 entries, 0 to 4268\n",
      "Data columns (total 13 columns):\n",
      " #   Column                     Non-Null Count  Dtype \n",
      "---  ------                     --------------  ----- \n",
      " 0   loan_id                    4269 non-null   int64 \n",
      " 1    no_of_dependents          4269 non-null   int64 \n",
      " 2    education                 4269 non-null   object\n",
      " 3    self_employed             4269 non-null   object\n",
      " 4    income_annum              4269 non-null   int64 \n",
      " 5    loan_amount               4269 non-null   int64 \n",
      " 6    loan_term                 4269 non-null   int64 \n",
      " 7    cibil_score               4269 non-null   int64 \n",
      " 8    residential_assets_value  4269 non-null   int64 \n",
      " 9    commercial_assets_value   4269 non-null   int64 \n",
      " 10   luxury_assets_value       4269 non-null   int64 \n",
      " 11   bank_asset_value          4269 non-null   int64 \n",
      " 12   loan_status               4269 non-null   object\n",
      "dtypes: int64(10), object(3)\n",
      "memory usage: 433.7+ KB\n"
     ]
    }
   ],
   "source": [
    "\n",
    "data.info()"
   ]
  },
  {
   "cell_type": "code",
   "execution_count": 8,
   "id": "94dcdc77",
   "metadata": {
    "execution": {
     "iopub.execute_input": "2025-04-26T14:39:56.932623Z",
     "iopub.status.busy": "2025-04-26T14:39:56.932296Z",
     "iopub.status.idle": "2025-04-26T14:39:56.971184Z",
     "shell.execute_reply": "2025-04-26T14:39:56.969991Z"
    },
    "papermill": {
     "duration": 0.051487,
     "end_time": "2025-04-26T14:39:56.972894",
     "exception": false,
     "start_time": "2025-04-26T14:39:56.921407",
     "status": "completed"
    },
    "tags": []
   },
   "outputs": [
    {
     "data": {
      "text/html": [
       "<div>\n",
       "<style scoped>\n",
       "    .dataframe tbody tr th:only-of-type {\n",
       "        vertical-align: middle;\n",
       "    }\n",
       "\n",
       "    .dataframe tbody tr th {\n",
       "        vertical-align: top;\n",
       "    }\n",
       "\n",
       "    .dataframe thead th {\n",
       "        text-align: right;\n",
       "    }\n",
       "</style>\n",
       "<table border=\"1\" class=\"dataframe\">\n",
       "  <thead>\n",
       "    <tr style=\"text-align: right;\">\n",
       "      <th></th>\n",
       "      <th>loan_id</th>\n",
       "      <th>no_of_dependents</th>\n",
       "      <th>income_annum</th>\n",
       "      <th>loan_amount</th>\n",
       "      <th>loan_term</th>\n",
       "      <th>cibil_score</th>\n",
       "      <th>residential_assets_value</th>\n",
       "      <th>commercial_assets_value</th>\n",
       "      <th>luxury_assets_value</th>\n",
       "      <th>bank_asset_value</th>\n",
       "    </tr>\n",
       "  </thead>\n",
       "  <tbody>\n",
       "    <tr>\n",
       "      <th>count</th>\n",
       "      <td>4269.000000</td>\n",
       "      <td>4269.000000</td>\n",
       "      <td>4.269000e+03</td>\n",
       "      <td>4.269000e+03</td>\n",
       "      <td>4269.000000</td>\n",
       "      <td>4269.000000</td>\n",
       "      <td>4.269000e+03</td>\n",
       "      <td>4.269000e+03</td>\n",
       "      <td>4.269000e+03</td>\n",
       "      <td>4.269000e+03</td>\n",
       "    </tr>\n",
       "    <tr>\n",
       "      <th>mean</th>\n",
       "      <td>2135.000000</td>\n",
       "      <td>2.498712</td>\n",
       "      <td>5.059124e+06</td>\n",
       "      <td>1.513345e+07</td>\n",
       "      <td>10.900445</td>\n",
       "      <td>599.936051</td>\n",
       "      <td>7.472617e+06</td>\n",
       "      <td>4.973155e+06</td>\n",
       "      <td>1.512631e+07</td>\n",
       "      <td>4.976692e+06</td>\n",
       "    </tr>\n",
       "    <tr>\n",
       "      <th>std</th>\n",
       "      <td>1232.498479</td>\n",
       "      <td>1.695910</td>\n",
       "      <td>2.806840e+06</td>\n",
       "      <td>9.043363e+06</td>\n",
       "      <td>5.709187</td>\n",
       "      <td>172.430401</td>\n",
       "      <td>6.503637e+06</td>\n",
       "      <td>4.388966e+06</td>\n",
       "      <td>9.103754e+06</td>\n",
       "      <td>3.250185e+06</td>\n",
       "    </tr>\n",
       "    <tr>\n",
       "      <th>min</th>\n",
       "      <td>1.000000</td>\n",
       "      <td>0.000000</td>\n",
       "      <td>2.000000e+05</td>\n",
       "      <td>3.000000e+05</td>\n",
       "      <td>2.000000</td>\n",
       "      <td>300.000000</td>\n",
       "      <td>-1.000000e+05</td>\n",
       "      <td>0.000000e+00</td>\n",
       "      <td>3.000000e+05</td>\n",
       "      <td>0.000000e+00</td>\n",
       "    </tr>\n",
       "    <tr>\n",
       "      <th>25%</th>\n",
       "      <td>1068.000000</td>\n",
       "      <td>1.000000</td>\n",
       "      <td>2.700000e+06</td>\n",
       "      <td>7.700000e+06</td>\n",
       "      <td>6.000000</td>\n",
       "      <td>453.000000</td>\n",
       "      <td>2.200000e+06</td>\n",
       "      <td>1.300000e+06</td>\n",
       "      <td>7.500000e+06</td>\n",
       "      <td>2.300000e+06</td>\n",
       "    </tr>\n",
       "    <tr>\n",
       "      <th>50%</th>\n",
       "      <td>2135.000000</td>\n",
       "      <td>3.000000</td>\n",
       "      <td>5.100000e+06</td>\n",
       "      <td>1.450000e+07</td>\n",
       "      <td>10.000000</td>\n",
       "      <td>600.000000</td>\n",
       "      <td>5.600000e+06</td>\n",
       "      <td>3.700000e+06</td>\n",
       "      <td>1.460000e+07</td>\n",
       "      <td>4.600000e+06</td>\n",
       "    </tr>\n",
       "    <tr>\n",
       "      <th>75%</th>\n",
       "      <td>3202.000000</td>\n",
       "      <td>4.000000</td>\n",
       "      <td>7.500000e+06</td>\n",
       "      <td>2.150000e+07</td>\n",
       "      <td>16.000000</td>\n",
       "      <td>748.000000</td>\n",
       "      <td>1.130000e+07</td>\n",
       "      <td>7.600000e+06</td>\n",
       "      <td>2.170000e+07</td>\n",
       "      <td>7.100000e+06</td>\n",
       "    </tr>\n",
       "    <tr>\n",
       "      <th>max</th>\n",
       "      <td>4269.000000</td>\n",
       "      <td>5.000000</td>\n",
       "      <td>9.900000e+06</td>\n",
       "      <td>3.950000e+07</td>\n",
       "      <td>20.000000</td>\n",
       "      <td>900.000000</td>\n",
       "      <td>2.910000e+07</td>\n",
       "      <td>1.940000e+07</td>\n",
       "      <td>3.920000e+07</td>\n",
       "      <td>1.470000e+07</td>\n",
       "    </tr>\n",
       "  </tbody>\n",
       "</table>\n",
       "</div>"
      ],
      "text/plain": [
       "           loan_id   no_of_dependents   income_annum   loan_amount  \\\n",
       "count  4269.000000        4269.000000   4.269000e+03  4.269000e+03   \n",
       "mean   2135.000000           2.498712   5.059124e+06  1.513345e+07   \n",
       "std    1232.498479           1.695910   2.806840e+06  9.043363e+06   \n",
       "min       1.000000           0.000000   2.000000e+05  3.000000e+05   \n",
       "25%    1068.000000           1.000000   2.700000e+06  7.700000e+06   \n",
       "50%    2135.000000           3.000000   5.100000e+06  1.450000e+07   \n",
       "75%    3202.000000           4.000000   7.500000e+06  2.150000e+07   \n",
       "max    4269.000000           5.000000   9.900000e+06  3.950000e+07   \n",
       "\n",
       "         loan_term   cibil_score   residential_assets_value  \\\n",
       "count  4269.000000   4269.000000               4.269000e+03   \n",
       "mean     10.900445    599.936051               7.472617e+06   \n",
       "std       5.709187    172.430401               6.503637e+06   \n",
       "min       2.000000    300.000000              -1.000000e+05   \n",
       "25%       6.000000    453.000000               2.200000e+06   \n",
       "50%      10.000000    600.000000               5.600000e+06   \n",
       "75%      16.000000    748.000000               1.130000e+07   \n",
       "max      20.000000    900.000000               2.910000e+07   \n",
       "\n",
       "        commercial_assets_value   luxury_assets_value   bank_asset_value  \n",
       "count              4.269000e+03          4.269000e+03       4.269000e+03  \n",
       "mean               4.973155e+06          1.512631e+07       4.976692e+06  \n",
       "std                4.388966e+06          9.103754e+06       3.250185e+06  \n",
       "min                0.000000e+00          3.000000e+05       0.000000e+00  \n",
       "25%                1.300000e+06          7.500000e+06       2.300000e+06  \n",
       "50%                3.700000e+06          1.460000e+07       4.600000e+06  \n",
       "75%                7.600000e+06          2.170000e+07       7.100000e+06  \n",
       "max                1.940000e+07          3.920000e+07       1.470000e+07  "
      ]
     },
     "execution_count": 8,
     "metadata": {},
     "output_type": "execute_result"
    }
   ],
   "source": [
    "\n",
    "data.describe()"
   ]
  },
  {
   "cell_type": "code",
   "execution_count": 9,
   "id": "3031e879",
   "metadata": {
    "execution": {
     "iopub.execute_input": "2025-04-26T14:39:56.992410Z",
     "iopub.status.busy": "2025-04-26T14:39:56.992037Z",
     "iopub.status.idle": "2025-04-26T14:39:57.000678Z",
     "shell.execute_reply": "2025-04-26T14:39:56.999380Z"
    },
    "papermill": {
     "duration": 0.020961,
     "end_time": "2025-04-26T14:39:57.002707",
     "exception": false,
     "start_time": "2025-04-26T14:39:56.981746",
     "status": "completed"
    },
    "tags": []
   },
   "outputs": [
    {
     "data": {
      "text/plain": [
       " loan_status\n",
       "Approved    2656\n",
       "Rejected    1613\n",
       "Name: count, dtype: int64"
      ]
     },
     "execution_count": 9,
     "metadata": {},
     "output_type": "execute_result"
    }
   ],
   "source": [
    "\n",
    "data[\" loan_status\"].value_counts()\n"
   ]
  },
  {
   "cell_type": "raw",
   "id": "1ec11b3c",
   "metadata": {
    "papermill": {
     "duration": 0.008344,
     "end_time": "2025-04-26T14:39:57.019926",
     "exception": false,
     "start_time": "2025-04-26T14:39:57.011582",
     "status": "completed"
    },
    "tags": []
   },
   "source": [
    "here 0 means approved 1 means rejected\n",
    "0-graduate, 1 -not graduate\n",
    "0 - no 1 - yes"
   ]
  },
  {
   "cell_type": "code",
   "execution_count": 10,
   "id": "edcd9357",
   "metadata": {
    "execution": {
     "iopub.execute_input": "2025-04-26T14:39:57.038771Z",
     "iopub.status.busy": "2025-04-26T14:39:57.038464Z",
     "iopub.status.idle": "2025-04-26T14:39:57.051318Z",
     "shell.execute_reply": "2025-04-26T14:39:57.050314Z"
    },
    "papermill": {
     "duration": 0.024437,
     "end_time": "2025-04-26T14:39:57.053092",
     "exception": false,
     "start_time": "2025-04-26T14:39:57.028655",
     "status": "completed"
    },
    "tags": []
   },
   "outputs": [
    {
     "data": {
      "text/html": [
       "<div>\n",
       "<style scoped>\n",
       "    .dataframe tbody tr th:only-of-type {\n",
       "        vertical-align: middle;\n",
       "    }\n",
       "\n",
       "    .dataframe tbody tr th {\n",
       "        vertical-align: top;\n",
       "    }\n",
       "\n",
       "    .dataframe thead th {\n",
       "        text-align: right;\n",
       "    }\n",
       "</style>\n",
       "<table border=\"1\" class=\"dataframe\">\n",
       "  <thead>\n",
       "    <tr style=\"text-align: right;\">\n",
       "      <th></th>\n",
       "      <th>loan_id</th>\n",
       "      <th>no_of_dependents</th>\n",
       "      <th>education</th>\n",
       "      <th>self_employed</th>\n",
       "      <th>income_annum</th>\n",
       "      <th>loan_amount</th>\n",
       "      <th>loan_term</th>\n",
       "      <th>cibil_score</th>\n",
       "      <th>residential_assets_value</th>\n",
       "      <th>commercial_assets_value</th>\n",
       "      <th>luxury_assets_value</th>\n",
       "      <th>bank_asset_value</th>\n",
       "      <th>loan_status</th>\n",
       "    </tr>\n",
       "  </thead>\n",
       "  <tbody>\n",
       "    <tr>\n",
       "      <th>0</th>\n",
       "      <td>1</td>\n",
       "      <td>2</td>\n",
       "      <td>Graduate</td>\n",
       "      <td>No</td>\n",
       "      <td>9600000</td>\n",
       "      <td>29900000</td>\n",
       "      <td>12</td>\n",
       "      <td>778</td>\n",
       "      <td>2400000</td>\n",
       "      <td>17600000</td>\n",
       "      <td>22700000</td>\n",
       "      <td>8000000</td>\n",
       "      <td>Approved</td>\n",
       "    </tr>\n",
       "    <tr>\n",
       "      <th>1</th>\n",
       "      <td>2</td>\n",
       "      <td>0</td>\n",
       "      <td>Not Graduate</td>\n",
       "      <td>Yes</td>\n",
       "      <td>4100000</td>\n",
       "      <td>12200000</td>\n",
       "      <td>8</td>\n",
       "      <td>417</td>\n",
       "      <td>2700000</td>\n",
       "      <td>2200000</td>\n",
       "      <td>8800000</td>\n",
       "      <td>3300000</td>\n",
       "      <td>Rejected</td>\n",
       "    </tr>\n",
       "    <tr>\n",
       "      <th>2</th>\n",
       "      <td>3</td>\n",
       "      <td>3</td>\n",
       "      <td>Graduate</td>\n",
       "      <td>No</td>\n",
       "      <td>9100000</td>\n",
       "      <td>29700000</td>\n",
       "      <td>20</td>\n",
       "      <td>506</td>\n",
       "      <td>7100000</td>\n",
       "      <td>4500000</td>\n",
       "      <td>33300000</td>\n",
       "      <td>12800000</td>\n",
       "      <td>Rejected</td>\n",
       "    </tr>\n",
       "    <tr>\n",
       "      <th>3</th>\n",
       "      <td>4</td>\n",
       "      <td>3</td>\n",
       "      <td>Graduate</td>\n",
       "      <td>No</td>\n",
       "      <td>8200000</td>\n",
       "      <td>30700000</td>\n",
       "      <td>8</td>\n",
       "      <td>467</td>\n",
       "      <td>18200000</td>\n",
       "      <td>3300000</td>\n",
       "      <td>23300000</td>\n",
       "      <td>7900000</td>\n",
       "      <td>Rejected</td>\n",
       "    </tr>\n",
       "    <tr>\n",
       "      <th>4</th>\n",
       "      <td>5</td>\n",
       "      <td>5</td>\n",
       "      <td>Not Graduate</td>\n",
       "      <td>Yes</td>\n",
       "      <td>9800000</td>\n",
       "      <td>24200000</td>\n",
       "      <td>20</td>\n",
       "      <td>382</td>\n",
       "      <td>12400000</td>\n",
       "      <td>8200000</td>\n",
       "      <td>29400000</td>\n",
       "      <td>5000000</td>\n",
       "      <td>Rejected</td>\n",
       "    </tr>\n",
       "  </tbody>\n",
       "</table>\n",
       "</div>"
      ],
      "text/plain": [
       "   loan_id   no_of_dependents      education  self_employed   income_annum  \\\n",
       "0        1                  2       Graduate             No        9600000   \n",
       "1        2                  0   Not Graduate            Yes        4100000   \n",
       "2        3                  3       Graduate             No        9100000   \n",
       "3        4                  3       Graduate             No        8200000   \n",
       "4        5                  5   Not Graduate            Yes        9800000   \n",
       "\n",
       "    loan_amount   loan_term   cibil_score   residential_assets_value  \\\n",
       "0      29900000          12           778                    2400000   \n",
       "1      12200000           8           417                    2700000   \n",
       "2      29700000          20           506                    7100000   \n",
       "3      30700000           8           467                   18200000   \n",
       "4      24200000          20           382                   12400000   \n",
       "\n",
       "    commercial_assets_value   luxury_assets_value   bank_asset_value  \\\n",
       "0                  17600000              22700000            8000000   \n",
       "1                   2200000               8800000            3300000   \n",
       "2                   4500000              33300000           12800000   \n",
       "3                   3300000              23300000            7900000   \n",
       "4                   8200000              29400000            5000000   \n",
       "\n",
       "   loan_status  \n",
       "0     Approved  \n",
       "1     Rejected  \n",
       "2     Rejected  \n",
       "3     Rejected  \n",
       "4     Rejected  "
      ]
     },
     "execution_count": 10,
     "metadata": {},
     "output_type": "execute_result"
    }
   ],
   "source": [
    "data.head()"
   ]
  },
  {
   "cell_type": "markdown",
   "id": "5f8a4e82",
   "metadata": {
    "papermill": {
     "duration": 0.008956,
     "end_time": "2025-04-26T14:39:57.071646",
     "exception": false,
     "start_time": "2025-04-26T14:39:57.062690",
     "status": "completed"
    },
    "tags": []
   },
   "source": [
    "# EDA"
   ]
  },
  {
   "cell_type": "code",
   "execution_count": 11,
   "id": "a06be40f",
   "metadata": {
    "execution": {
     "iopub.execute_input": "2025-04-26T14:39:57.161059Z",
     "iopub.status.busy": "2025-04-26T14:39:57.160583Z",
     "iopub.status.idle": "2025-04-26T14:39:57.997865Z",
     "shell.execute_reply": "2025-04-26T14:39:57.996867Z"
    },
    "papermill": {
     "duration": 0.850488,
     "end_time": "2025-04-26T14:39:57.999733",
     "exception": false,
     "start_time": "2025-04-26T14:39:57.149245",
     "status": "completed"
    },
    "tags": []
   },
   "outputs": [
    {
     "data": {
      "text/plain": [
       "<Axes: xlabel=' loan_status', ylabel=' loan_term'>"
      ]
     },
     "execution_count": 11,
     "metadata": {},
     "output_type": "execute_result"
    },
    {
     "data": {
      "image/png": "[encoded data removed]",
      "text/plain": [
       "<Figure size 1000x600 with 4 Axes>"
      ]
     },
     "metadata": {},
     "output_type": "display_data"
    }
   ],
   "source": [
    "plt.figure(figsize=(10,6))\n",
    "plt.subplot(2,2,1)\n",
    "sns.barplot(data = data,x = \" loan_status\",y = \" cibil_score\")\n",
    "plt.subplot(2,2,2)\n",
    "sns.barplot(data = data,x = \" loan_status\",y = \" no_of_dependents\")\n",
    "plt.subplot(2,2,3)\n",
    "sns.barplot(data = data,x = \" loan_status\",y = \" loan_amount\")\n",
    "plt.subplot(2,2,4)\n",
    "sns.barplot(data = data,x = \" loan_status\",y = \" loan_term\")"
   ]
  },
  {
   "cell_type": "code",
   "execution_count": 12,
   "id": "0e50c592",
   "metadata": {
    "execution": {
     "iopub.execute_input": "2025-04-26T14:39:58.022266Z",
     "iopub.status.busy": "2025-04-26T14:39:58.021898Z",
     "iopub.status.idle": "2025-04-26T14:39:58.037951Z",
     "shell.execute_reply": "2025-04-26T14:39:58.036974Z"
    },
    "papermill": {
     "duration": 0.029288,
     "end_time": "2025-04-26T14:39:58.039688",
     "exception": false,
     "start_time": "2025-04-26T14:39:58.010400",
     "status": "completed"
    },
    "tags": []
   },
   "outputs": [
    {
     "data": {
      "text/html": [
       "<div>\n",
       "<style scoped>\n",
       "    .dataframe tbody tr th:only-of-type {\n",
       "        vertical-align: middle;\n",
       "    }\n",
       "\n",
       "    .dataframe tbody tr th {\n",
       "        vertical-align: top;\n",
       "    }\n",
       "\n",
       "    .dataframe thead th {\n",
       "        text-align: right;\n",
       "    }\n",
       "</style>\n",
       "<table border=\"1\" class=\"dataframe\">\n",
       "  <thead>\n",
       "    <tr style=\"text-align: right;\">\n",
       "      <th></th>\n",
       "      <th>loan_id</th>\n",
       "      <th>no_of_dependents</th>\n",
       "      <th>education</th>\n",
       "      <th>self_employed</th>\n",
       "      <th>income_annum</th>\n",
       "      <th>loan_amount</th>\n",
       "      <th>loan_term</th>\n",
       "      <th>cibil_score</th>\n",
       "      <th>residential_assets_value</th>\n",
       "      <th>commercial_assets_value</th>\n",
       "      <th>luxury_assets_value</th>\n",
       "      <th>bank_asset_value</th>\n",
       "      <th>loan_status</th>\n",
       "    </tr>\n",
       "  </thead>\n",
       "  <tbody>\n",
       "    <tr>\n",
       "      <th>236</th>\n",
       "      <td>237</td>\n",
       "      <td>3</td>\n",
       "      <td>Graduate</td>\n",
       "      <td>Yes</td>\n",
       "      <td>900000</td>\n",
       "      <td>3500000</td>\n",
       "      <td>4</td>\n",
       "      <td>770</td>\n",
       "      <td>700000</td>\n",
       "      <td>0</td>\n",
       "      <td>2000000</td>\n",
       "      <td>600000</td>\n",
       "      <td>Rejected</td>\n",
       "    </tr>\n",
       "    <tr>\n",
       "      <th>559</th>\n",
       "      <td>560</td>\n",
       "      <td>2</td>\n",
       "      <td>Graduate</td>\n",
       "      <td>Yes</td>\n",
       "      <td>200000</td>\n",
       "      <td>500000</td>\n",
       "      <td>6</td>\n",
       "      <td>885</td>\n",
       "      <td>-100000</td>\n",
       "      <td>0</td>\n",
       "      <td>300000</td>\n",
       "      <td>200000</td>\n",
       "      <td>Rejected</td>\n",
       "    </tr>\n",
       "    <tr>\n",
       "      <th>911</th>\n",
       "      <td>912</td>\n",
       "      <td>0</td>\n",
       "      <td>Graduate</td>\n",
       "      <td>Yes</td>\n",
       "      <td>1300000</td>\n",
       "      <td>4800000</td>\n",
       "      <td>4</td>\n",
       "      <td>835</td>\n",
       "      <td>500000</td>\n",
       "      <td>100000</td>\n",
       "      <td>3300000</td>\n",
       "      <td>800000</td>\n",
       "      <td>Rejected</td>\n",
       "    </tr>\n",
       "    <tr>\n",
       "      <th>1446</th>\n",
       "      <td>1447</td>\n",
       "      <td>1</td>\n",
       "      <td>Graduate</td>\n",
       "      <td>No</td>\n",
       "      <td>300000</td>\n",
       "      <td>1200000</td>\n",
       "      <td>18</td>\n",
       "      <td>747</td>\n",
       "      <td>100000</td>\n",
       "      <td>0</td>\n",
       "      <td>700000</td>\n",
       "      <td>200000</td>\n",
       "      <td>Rejected</td>\n",
       "    </tr>\n",
       "    <tr>\n",
       "      <th>3213</th>\n",
       "      <td>3214</td>\n",
       "      <td>1</td>\n",
       "      <td>Not Graduate</td>\n",
       "      <td>Yes</td>\n",
       "      <td>4300000</td>\n",
       "      <td>16300000</td>\n",
       "      <td>14</td>\n",
       "      <td>792</td>\n",
       "      <td>400000</td>\n",
       "      <td>400000</td>\n",
       "      <td>10200000</td>\n",
       "      <td>4000000</td>\n",
       "      <td>Rejected</td>\n",
       "    </tr>\n",
       "    <tr>\n",
       "      <th>3527</th>\n",
       "      <td>3528</td>\n",
       "      <td>0</td>\n",
       "      <td>Graduate</td>\n",
       "      <td>No</td>\n",
       "      <td>1800000</td>\n",
       "      <td>6900000</td>\n",
       "      <td>10</td>\n",
       "      <td>853</td>\n",
       "      <td>900000</td>\n",
       "      <td>400000</td>\n",
       "      <td>3700000</td>\n",
       "      <td>1700000</td>\n",
       "      <td>Rejected</td>\n",
       "    </tr>\n",
       "    <tr>\n",
       "      <th>4099</th>\n",
       "      <td>4100</td>\n",
       "      <td>3</td>\n",
       "      <td>Graduate</td>\n",
       "      <td>No</td>\n",
       "      <td>8700000</td>\n",
       "      <td>31100000</td>\n",
       "      <td>16</td>\n",
       "      <td>760</td>\n",
       "      <td>400000</td>\n",
       "      <td>1800000</td>\n",
       "      <td>19300000</td>\n",
       "      <td>4800000</td>\n",
       "      <td>Rejected</td>\n",
       "    </tr>\n",
       "  </tbody>\n",
       "</table>\n",
       "</div>"
      ],
      "text/plain": [
       "      loan_id   no_of_dependents      education  self_employed   income_annum  \\\n",
       "236       237                  3       Graduate            Yes         900000   \n",
       "559       560                  2       Graduate            Yes         200000   \n",
       "911       912                  0       Graduate            Yes        1300000   \n",
       "1446     1447                  1       Graduate             No         300000   \n",
       "3213     3214                  1   Not Graduate            Yes        4300000   \n",
       "3527     3528                  0       Graduate             No        1800000   \n",
       "4099     4100                  3       Graduate             No        8700000   \n",
       "\n",
       "       loan_amount   loan_term   cibil_score   residential_assets_value  \\\n",
       "236        3500000           4           770                     700000   \n",
       "559         500000           6           885                    -100000   \n",
       "911        4800000           4           835                     500000   \n",
       "1446       1200000          18           747                     100000   \n",
       "3213      16300000          14           792                     400000   \n",
       "3527       6900000          10           853                     900000   \n",
       "4099      31100000          16           760                     400000   \n",
       "\n",
       "       commercial_assets_value   luxury_assets_value   bank_asset_value  \\\n",
       "236                          0               2000000             600000   \n",
       "559                          0                300000             200000   \n",
       "911                     100000               3300000             800000   \n",
       "1446                         0                700000             200000   \n",
       "3213                    400000              10200000            4000000   \n",
       "3527                    400000               3700000            1700000   \n",
       "4099                   1800000              19300000            4800000   \n",
       "\n",
       "      loan_status  \n",
       "236      Rejected  \n",
       "559      Rejected  \n",
       "911      Rejected  \n",
       "1446     Rejected  \n",
       "3213     Rejected  \n",
       "3527     Rejected  \n",
       "4099     Rejected  "
      ]
     },
     "execution_count": 12,
     "metadata": {},
     "output_type": "execute_result"
    }
   ],
   "source": [
    "data.loc[(data[\" cibil_score\"]> 740 ) & (data[\" loan_status\"] == \" Rejected\")]"
   ]
  },
  {
   "cell_type": "markdown",
   "id": "8f2d728b",
   "metadata": {
    "papermill": {
     "duration": 0.010192,
     "end_time": "2025-04-26T14:39:58.060789",
     "exception": false,
     "start_time": "2025-04-26T14:39:58.050597",
     "status": "completed"
    },
    "tags": []
   },
   "source": [
    "There are total in seven customers whose cibil score is very high but their loan application was rejected.\n",
    "\n",
    "let's look at other aspects."
   ]
  },
  {
   "cell_type": "markdown",
   "id": "53aa47cf",
   "metadata": {
    "papermill": {
     "duration": 0.009821,
     "end_time": "2025-04-26T14:39:58.080707",
     "exception": false,
     "start_time": "2025-04-26T14:39:58.070886",
     "status": "completed"
    },
    "tags": []
   },
   "source": [
    "The other one factor affects the approval of application is annual income let's see how it affects."
   ]
  },
  {
   "cell_type": "code",
   "execution_count": 13,
   "id": "91522609",
   "metadata": {
    "execution": {
     "iopub.execute_input": "2025-04-26T14:39:58.103250Z",
     "iopub.status.busy": "2025-04-26T14:39:58.102879Z",
     "iopub.status.idle": "2025-04-26T14:39:58.118302Z",
     "shell.execute_reply": "2025-04-26T14:39:58.117260Z"
    },
    "papermill": {
     "duration": 0.029026,
     "end_time": "2025-04-26T14:39:58.120291",
     "exception": false,
     "start_time": "2025-04-26T14:39:58.091265",
     "status": "completed"
    },
    "tags": []
   },
   "outputs": [
    {
     "data": {
      "text/html": [
       "<div>\n",
       "<style scoped>\n",
       "    .dataframe tbody tr th:only-of-type {\n",
       "        vertical-align: middle;\n",
       "    }\n",
       "\n",
       "    .dataframe tbody tr th {\n",
       "        vertical-align: top;\n",
       "    }\n",
       "\n",
       "    .dataframe thead th {\n",
       "        text-align: right;\n",
       "    }\n",
       "</style>\n",
       "<table border=\"1\" class=\"dataframe\">\n",
       "  <thead>\n",
       "    <tr style=\"text-align: right;\">\n",
       "      <th></th>\n",
       "      <th>loan_id</th>\n",
       "      <th>no_of_dependents</th>\n",
       "      <th>education</th>\n",
       "      <th>self_employed</th>\n",
       "      <th>income_annum</th>\n",
       "      <th>loan_amount</th>\n",
       "      <th>loan_term</th>\n",
       "      <th>cibil_score</th>\n",
       "      <th>residential_assets_value</th>\n",
       "      <th>commercial_assets_value</th>\n",
       "      <th>luxury_assets_value</th>\n",
       "      <th>bank_asset_value</th>\n",
       "      <th>loan_status</th>\n",
       "    </tr>\n",
       "  </thead>\n",
       "  <tbody>\n",
       "    <tr>\n",
       "      <th>0</th>\n",
       "      <td>1</td>\n",
       "      <td>2</td>\n",
       "      <td>Graduate</td>\n",
       "      <td>No</td>\n",
       "      <td>9600000</td>\n",
       "      <td>29900000</td>\n",
       "      <td>12</td>\n",
       "      <td>778</td>\n",
       "      <td>2400000</td>\n",
       "      <td>17600000</td>\n",
       "      <td>22700000</td>\n",
       "      <td>8000000</td>\n",
       "      <td>Approved</td>\n",
       "    </tr>\n",
       "    <tr>\n",
       "      <th>15</th>\n",
       "      <td>16</td>\n",
       "      <td>5</td>\n",
       "      <td>Not Graduate</td>\n",
       "      <td>No</td>\n",
       "      <td>4700000</td>\n",
       "      <td>10700000</td>\n",
       "      <td>10</td>\n",
       "      <td>794</td>\n",
       "      <td>5700000</td>\n",
       "      <td>3900000</td>\n",
       "      <td>16400000</td>\n",
       "      <td>4400000</td>\n",
       "      <td>Approved</td>\n",
       "    </tr>\n",
       "    <tr>\n",
       "      <th>17</th>\n",
       "      <td>18</td>\n",
       "      <td>4</td>\n",
       "      <td>Not Graduate</td>\n",
       "      <td>Yes</td>\n",
       "      <td>2900000</td>\n",
       "      <td>9400000</td>\n",
       "      <td>14</td>\n",
       "      <td>780</td>\n",
       "      <td>2900000</td>\n",
       "      <td>2800000</td>\n",
       "      <td>6700000</td>\n",
       "      <td>4300000</td>\n",
       "      <td>Approved</td>\n",
       "    </tr>\n",
       "    <tr>\n",
       "      <th>29</th>\n",
       "      <td>30</td>\n",
       "      <td>3</td>\n",
       "      <td>Not Graduate</td>\n",
       "      <td>Yes</td>\n",
       "      <td>9000000</td>\n",
       "      <td>31500000</td>\n",
       "      <td>10</td>\n",
       "      <td>850</td>\n",
       "      <td>21800000</td>\n",
       "      <td>12400000</td>\n",
       "      <td>33700000</td>\n",
       "      <td>8000000</td>\n",
       "      <td>Approved</td>\n",
       "    </tr>\n",
       "    <tr>\n",
       "      <th>33</th>\n",
       "      <td>34</td>\n",
       "      <td>5</td>\n",
       "      <td>Not Graduate</td>\n",
       "      <td>Yes</td>\n",
       "      <td>8400000</td>\n",
       "      <td>22000000</td>\n",
       "      <td>2</td>\n",
       "      <td>830</td>\n",
       "      <td>3800000</td>\n",
       "      <td>3900000</td>\n",
       "      <td>19900000</td>\n",
       "      <td>5400000</td>\n",
       "      <td>Approved</td>\n",
       "    </tr>\n",
       "    <tr>\n",
       "      <th>...</th>\n",
       "      <td>...</td>\n",
       "      <td>...</td>\n",
       "      <td>...</td>\n",
       "      <td>...</td>\n",
       "      <td>...</td>\n",
       "      <td>...</td>\n",
       "      <td>...</td>\n",
       "      <td>...</td>\n",
       "      <td>...</td>\n",
       "      <td>...</td>\n",
       "      <td>...</td>\n",
       "      <td>...</td>\n",
       "      <td>...</td>\n",
       "    </tr>\n",
       "    <tr>\n",
       "      <th>4247</th>\n",
       "      <td>4248</td>\n",
       "      <td>3</td>\n",
       "      <td>Not Graduate</td>\n",
       "      <td>No</td>\n",
       "      <td>3100000</td>\n",
       "      <td>9800000</td>\n",
       "      <td>12</td>\n",
       "      <td>820</td>\n",
       "      <td>6400000</td>\n",
       "      <td>5200000</td>\n",
       "      <td>10900000</td>\n",
       "      <td>4400000</td>\n",
       "      <td>Approved</td>\n",
       "    </tr>\n",
       "    <tr>\n",
       "      <th>4249</th>\n",
       "      <td>4250</td>\n",
       "      <td>4</td>\n",
       "      <td>Graduate</td>\n",
       "      <td>No</td>\n",
       "      <td>1100000</td>\n",
       "      <td>4000000</td>\n",
       "      <td>14</td>\n",
       "      <td>887</td>\n",
       "      <td>2400000</td>\n",
       "      <td>1500000</td>\n",
       "      <td>4200000</td>\n",
       "      <td>1600000</td>\n",
       "      <td>Approved</td>\n",
       "    </tr>\n",
       "    <tr>\n",
       "      <th>4253</th>\n",
       "      <td>4254</td>\n",
       "      <td>5</td>\n",
       "      <td>Graduate</td>\n",
       "      <td>Yes</td>\n",
       "      <td>7000000</td>\n",
       "      <td>26200000</td>\n",
       "      <td>12</td>\n",
       "      <td>896</td>\n",
       "      <td>13100000</td>\n",
       "      <td>6600000</td>\n",
       "      <td>23600000</td>\n",
       "      <td>5700000</td>\n",
       "      <td>Approved</td>\n",
       "    </tr>\n",
       "    <tr>\n",
       "      <th>4261</th>\n",
       "      <td>4262</td>\n",
       "      <td>3</td>\n",
       "      <td>Graduate</td>\n",
       "      <td>Yes</td>\n",
       "      <td>3000000</td>\n",
       "      <td>7500000</td>\n",
       "      <td>6</td>\n",
       "      <td>881</td>\n",
       "      <td>1400000</td>\n",
       "      <td>4500000</td>\n",
       "      <td>6100000</td>\n",
       "      <td>2300000</td>\n",
       "      <td>Approved</td>\n",
       "    </tr>\n",
       "    <tr>\n",
       "      <th>4263</th>\n",
       "      <td>4264</td>\n",
       "      <td>3</td>\n",
       "      <td>Graduate</td>\n",
       "      <td>No</td>\n",
       "      <td>5000000</td>\n",
       "      <td>12700000</td>\n",
       "      <td>14</td>\n",
       "      <td>865</td>\n",
       "      <td>4700000</td>\n",
       "      <td>8100000</td>\n",
       "      <td>19500000</td>\n",
       "      <td>6300000</td>\n",
       "      <td>Approved</td>\n",
       "    </tr>\n",
       "  </tbody>\n",
       "</table>\n",
       "<p>753 rows × 13 columns</p>\n",
       "</div>"
      ],
      "text/plain": [
       "      loan_id   no_of_dependents      education  self_employed   income_annum  \\\n",
       "0           1                  2       Graduate             No        9600000   \n",
       "15         16                  5   Not Graduate             No        4700000   \n",
       "17         18                  4   Not Graduate            Yes        2900000   \n",
       "29         30                  3   Not Graduate            Yes        9000000   \n",
       "33         34                  5   Not Graduate            Yes        8400000   \n",
       "...       ...                ...            ...            ...            ...   \n",
       "4247     4248                  3   Not Graduate             No        3100000   \n",
       "4249     4250                  4       Graduate             No        1100000   \n",
       "4253     4254                  5       Graduate            Yes        7000000   \n",
       "4261     4262                  3       Graduate            Yes        3000000   \n",
       "4263     4264                  3       Graduate             No        5000000   \n",
       "\n",
       "       loan_amount   loan_term   cibil_score   residential_assets_value  \\\n",
       "0         29900000          12           778                    2400000   \n",
       "15        10700000          10           794                    5700000   \n",
       "17         9400000          14           780                    2900000   \n",
       "29        31500000          10           850                   21800000   \n",
       "33        22000000           2           830                    3800000   \n",
       "...            ...         ...           ...                        ...   \n",
       "4247       9800000          12           820                    6400000   \n",
       "4249       4000000          14           887                    2400000   \n",
       "4253      26200000          12           896                   13100000   \n",
       "4261       7500000           6           881                    1400000   \n",
       "4263      12700000          14           865                    4700000   \n",
       "\n",
       "       commercial_assets_value   luxury_assets_value   bank_asset_value  \\\n",
       "0                     17600000              22700000            8000000   \n",
       "15                     3900000              16400000            4400000   \n",
       "17                     2800000               6700000            4300000   \n",
       "29                    12400000              33700000            8000000   \n",
       "33                     3900000              19900000            5400000   \n",
       "...                        ...                   ...                ...   \n",
       "4247                   5200000              10900000            4400000   \n",
       "4249                   1500000               4200000            1600000   \n",
       "4253                   6600000              23600000            5700000   \n",
       "4261                   4500000               6100000            2300000   \n",
       "4263                   8100000              19500000            6300000   \n",
       "\n",
       "      loan_status  \n",
       "0        Approved  \n",
       "15       Approved  \n",
       "17       Approved  \n",
       "29       Approved  \n",
       "33       Approved  \n",
       "...           ...  \n",
       "4247     Approved  \n",
       "4249     Approved  \n",
       "4253     Approved  \n",
       "4261     Approved  \n",
       "4263     Approved  \n",
       "\n",
       "[753 rows x 13 columns]"
      ]
     },
     "execution_count": 13,
     "metadata": {},
     "output_type": "execute_result"
    }
   ],
   "source": [
    "data.loc[(data[\" cibil_score\"] > 740) & \n",
    "         (data[\" no_of_dependents\"] >1)]"
   ]
  },
  {
   "cell_type": "code",
   "execution_count": 14,
   "id": "acef05ae",
   "metadata": {
    "execution": {
     "iopub.execute_input": "2025-04-26T14:39:58.142526Z",
     "iopub.status.busy": "2025-04-26T14:39:58.142185Z",
     "iopub.status.idle": "2025-04-26T14:39:58.148895Z",
     "shell.execute_reply": "2025-04-26T14:39:58.147882Z"
    },
    "papermill": {
     "duration": 0.019834,
     "end_time": "2025-04-26T14:39:58.150750",
     "exception": false,
     "start_time": "2025-04-26T14:39:58.130916",
     "status": "completed"
    },
    "tags": []
   },
   "outputs": [
    {
     "data": {
      "text/plain": [
       "Index(['loan_id', ' no_of_dependents', ' education', ' self_employed',\n",
       "       ' income_annum', ' loan_amount', ' loan_term', ' cibil_score',\n",
       "       ' residential_assets_value', ' commercial_assets_value',\n",
       "       ' luxury_assets_value', ' bank_asset_value', ' loan_status'],\n",
       "      dtype='object')"
      ]
     },
     "execution_count": 14,
     "metadata": {},
     "output_type": "execute_result"
    }
   ],
   "source": [
    "data.columns"
   ]
  },
  {
   "cell_type": "code",
   "execution_count": 15,
   "id": "85a73087",
   "metadata": {
    "execution": {
     "iopub.execute_input": "2025-04-26T14:39:58.175551Z",
     "iopub.status.busy": "2025-04-26T14:39:58.175231Z",
     "iopub.status.idle": "2025-04-26T14:39:58.194230Z",
     "shell.execute_reply": "2025-04-26T14:39:58.193169Z"
    },
    "papermill": {
     "duration": 0.032619,
     "end_time": "2025-04-26T14:39:58.196316",
     "exception": false,
     "start_time": "2025-04-26T14:39:58.163697",
     "status": "completed"
    },
    "tags": []
   },
   "outputs": [
    {
     "data": {
      "text/html": [
       "<div>\n",
       "<style scoped>\n",
       "    .dataframe tbody tr th:only-of-type {\n",
       "        vertical-align: middle;\n",
       "    }\n",
       "\n",
       "    .dataframe tbody tr th {\n",
       "        vertical-align: top;\n",
       "    }\n",
       "\n",
       "    .dataframe thead th {\n",
       "        text-align: right;\n",
       "    }\n",
       "</style>\n",
       "<table border=\"1\" class=\"dataframe\">\n",
       "  <thead>\n",
       "    <tr style=\"text-align: right;\">\n",
       "      <th></th>\n",
       "      <th>loan_id</th>\n",
       "      <th>no_of_dependents</th>\n",
       "      <th>income_annum</th>\n",
       "      <th>loan_amount</th>\n",
       "      <th>loan_term</th>\n",
       "      <th>cibil_score</th>\n",
       "      <th>residential_assets_value</th>\n",
       "      <th>commercial_assets_value</th>\n",
       "      <th>luxury_assets_value</th>\n",
       "      <th>bank_asset_value</th>\n",
       "    </tr>\n",
       "  </thead>\n",
       "  <tbody>\n",
       "    <tr>\n",
       "      <th>loan_id</th>\n",
       "      <td>1.000000</td>\n",
       "      <td>0.005326</td>\n",
       "      <td>0.012592</td>\n",
       "      <td>0.008170</td>\n",
       "      <td>0.009809</td>\n",
       "      <td>0.016323</td>\n",
       "      <td>0.020936</td>\n",
       "      <td>0.018595</td>\n",
       "      <td>-0.000862</td>\n",
       "      <td>0.010765</td>\n",
       "    </tr>\n",
       "    <tr>\n",
       "      <th>no_of_dependents</th>\n",
       "      <td>0.005326</td>\n",
       "      <td>1.000000</td>\n",
       "      <td>0.007266</td>\n",
       "      <td>-0.003366</td>\n",
       "      <td>-0.020111</td>\n",
       "      <td>-0.009998</td>\n",
       "      <td>0.007376</td>\n",
       "      <td>-0.001531</td>\n",
       "      <td>0.002817</td>\n",
       "      <td>0.011163</td>\n",
       "    </tr>\n",
       "    <tr>\n",
       "      <th>income_annum</th>\n",
       "      <td>0.012592</td>\n",
       "      <td>0.007266</td>\n",
       "      <td>1.000000</td>\n",
       "      <td>0.927470</td>\n",
       "      <td>0.011488</td>\n",
       "      <td>-0.023034</td>\n",
       "      <td>0.636841</td>\n",
       "      <td>0.640328</td>\n",
       "      <td>0.929145</td>\n",
       "      <td>0.851093</td>\n",
       "    </tr>\n",
       "    <tr>\n",
       "      <th>loan_amount</th>\n",
       "      <td>0.008170</td>\n",
       "      <td>-0.003366</td>\n",
       "      <td>0.927470</td>\n",
       "      <td>1.000000</td>\n",
       "      <td>0.008437</td>\n",
       "      <td>-0.017035</td>\n",
       "      <td>0.594596</td>\n",
       "      <td>0.603188</td>\n",
       "      <td>0.860914</td>\n",
       "      <td>0.788122</td>\n",
       "    </tr>\n",
       "    <tr>\n",
       "      <th>loan_term</th>\n",
       "      <td>0.009809</td>\n",
       "      <td>-0.020111</td>\n",
       "      <td>0.011488</td>\n",
       "      <td>0.008437</td>\n",
       "      <td>1.000000</td>\n",
       "      <td>0.007810</td>\n",
       "      <td>0.008016</td>\n",
       "      <td>-0.005478</td>\n",
       "      <td>0.012490</td>\n",
       "      <td>0.017177</td>\n",
       "    </tr>\n",
       "    <tr>\n",
       "      <th>cibil_score</th>\n",
       "      <td>0.016323</td>\n",
       "      <td>-0.009998</td>\n",
       "      <td>-0.023034</td>\n",
       "      <td>-0.017035</td>\n",
       "      <td>0.007810</td>\n",
       "      <td>1.000000</td>\n",
       "      <td>-0.019947</td>\n",
       "      <td>-0.003769</td>\n",
       "      <td>-0.028618</td>\n",
       "      <td>-0.015478</td>\n",
       "    </tr>\n",
       "    <tr>\n",
       "      <th>residential_assets_value</th>\n",
       "      <td>0.020936</td>\n",
       "      <td>0.007376</td>\n",
       "      <td>0.636841</td>\n",
       "      <td>0.594596</td>\n",
       "      <td>0.008016</td>\n",
       "      <td>-0.019947</td>\n",
       "      <td>1.000000</td>\n",
       "      <td>0.414786</td>\n",
       "      <td>0.590932</td>\n",
       "      <td>0.527418</td>\n",
       "    </tr>\n",
       "    <tr>\n",
       "      <th>commercial_assets_value</th>\n",
       "      <td>0.018595</td>\n",
       "      <td>-0.001531</td>\n",
       "      <td>0.640328</td>\n",
       "      <td>0.603188</td>\n",
       "      <td>-0.005478</td>\n",
       "      <td>-0.003769</td>\n",
       "      <td>0.414786</td>\n",
       "      <td>1.000000</td>\n",
       "      <td>0.591128</td>\n",
       "      <td>0.548576</td>\n",
       "    </tr>\n",
       "    <tr>\n",
       "      <th>luxury_assets_value</th>\n",
       "      <td>-0.000862</td>\n",
       "      <td>0.002817</td>\n",
       "      <td>0.929145</td>\n",
       "      <td>0.860914</td>\n",
       "      <td>0.012490</td>\n",
       "      <td>-0.028618</td>\n",
       "      <td>0.590932</td>\n",
       "      <td>0.591128</td>\n",
       "      <td>1.000000</td>\n",
       "      <td>0.788517</td>\n",
       "    </tr>\n",
       "    <tr>\n",
       "      <th>bank_asset_value</th>\n",
       "      <td>0.010765</td>\n",
       "      <td>0.011163</td>\n",
       "      <td>0.851093</td>\n",
       "      <td>0.788122</td>\n",
       "      <td>0.017177</td>\n",
       "      <td>-0.015478</td>\n",
       "      <td>0.527418</td>\n",
       "      <td>0.548576</td>\n",
       "      <td>0.788517</td>\n",
       "      <td>1.000000</td>\n",
       "    </tr>\n",
       "  </tbody>\n",
       "</table>\n",
       "</div>"
      ],
      "text/plain": [
       "                            loan_id   no_of_dependents   income_annum  \\\n",
       "loan_id                    1.000000           0.005326       0.012592   \n",
       " no_of_dependents          0.005326           1.000000       0.007266   \n",
       " income_annum              0.012592           0.007266       1.000000   \n",
       " loan_amount               0.008170          -0.003366       0.927470   \n",
       " loan_term                 0.009809          -0.020111       0.011488   \n",
       " cibil_score               0.016323          -0.009998      -0.023034   \n",
       " residential_assets_value  0.020936           0.007376       0.636841   \n",
       " commercial_assets_value   0.018595          -0.001531       0.640328   \n",
       " luxury_assets_value      -0.000862           0.002817       0.929145   \n",
       " bank_asset_value          0.010765           0.011163       0.851093   \n",
       "\n",
       "                            loan_amount   loan_term   cibil_score  \\\n",
       "loan_id                        0.008170    0.009809      0.016323   \n",
       " no_of_dependents             -0.003366   -0.020111     -0.009998   \n",
       " income_annum                  0.927470    0.011488     -0.023034   \n",
       " loan_amount                   1.000000    0.008437     -0.017035   \n",
       " loan_term                     0.008437    1.000000      0.007810   \n",
       " cibil_score                  -0.017035    0.007810      1.000000   \n",
       " residential_assets_value      0.594596    0.008016     -0.019947   \n",
       " commercial_assets_value       0.603188   -0.005478     -0.003769   \n",
       " luxury_assets_value           0.860914    0.012490     -0.028618   \n",
       " bank_asset_value              0.788122    0.017177     -0.015478   \n",
       "\n",
       "                            residential_assets_value  \\\n",
       "loan_id                                     0.020936   \n",
       " no_of_dependents                           0.007376   \n",
       " income_annum                               0.636841   \n",
       " loan_amount                                0.594596   \n",
       " loan_term                                  0.008016   \n",
       " cibil_score                               -0.019947   \n",
       " residential_assets_value                   1.000000   \n",
       " commercial_assets_value                    0.414786   \n",
       " luxury_assets_value                        0.590932   \n",
       " bank_asset_value                           0.527418   \n",
       "\n",
       "                            commercial_assets_value   luxury_assets_value  \\\n",
       "loan_id                                    0.018595             -0.000862   \n",
       " no_of_dependents                         -0.001531              0.002817   \n",
       " income_annum                              0.640328              0.929145   \n",
       " loan_amount                               0.603188              0.860914   \n",
       " loan_term                                -0.005478              0.012490   \n",
       " cibil_score                              -0.003769             -0.028618   \n",
       " residential_assets_value                  0.414786              0.590932   \n",
       " commercial_assets_value                   1.000000              0.591128   \n",
       " luxury_assets_value                       0.591128              1.000000   \n",
       " bank_asset_value                          0.548576              0.788517   \n",
       "\n",
       "                            bank_asset_value  \n",
       "loan_id                             0.010765  \n",
       " no_of_dependents                   0.011163  \n",
       " income_annum                       0.851093  \n",
       " loan_amount                        0.788122  \n",
       " loan_term                          0.017177  \n",
       " cibil_score                       -0.015478  \n",
       " residential_assets_value           0.527418  \n",
       " commercial_assets_value            0.548576  \n",
       " luxury_assets_value                0.788517  \n",
       " bank_asset_value                   1.000000  "
      ]
     },
     "execution_count": 15,
     "metadata": {},
     "output_type": "execute_result"
    }
   ],
   "source": [
    "data.corr(numeric_only=True)"
   ]
  },
  {
   "cell_type": "code",
   "execution_count": 16,
   "id": "56cb6c41",
   "metadata": {
    "execution": {
     "iopub.execute_input": "2025-04-26T14:39:58.220719Z",
     "iopub.status.busy": "2025-04-26T14:39:58.220354Z",
     "iopub.status.idle": "2025-04-26T14:39:58.395285Z",
     "shell.execute_reply": "2025-04-26T14:39:58.394242Z"
    },
    "papermill": {
     "duration": 0.189233,
     "end_time": "2025-04-26T14:39:58.397002",
     "exception": false,
     "start_time": "2025-04-26T14:39:58.207769",
     "status": "completed"
    },
    "tags": []
   },
   "outputs": [
    {
     "data": {
      "text/plain": [
       "<Axes: xlabel=' no_of_dependents', ylabel='count'>"
      ]
     },
     "execution_count": 16,
     "metadata": {},
     "output_type": "execute_result"
    },
    {
     "data": {
      "image/png": "[encoded data removed]",
      "text/plain": [
       "<Figure size 1000x600 with 1 Axes>"
      ]
     },
     "metadata": {},
     "output_type": "display_data"
    }
   ],
   "source": [
    "plt.figure(figsize=(10,6))\n",
    "sns.countplot(data = data,x = \" no_of_dependents\")"
   ]
  },
  {
   "cell_type": "code",
   "execution_count": 17,
   "id": "5d22e2c0",
   "metadata": {
    "execution": {
     "iopub.execute_input": "2025-04-26T14:39:58.421037Z",
     "iopub.status.busy": "2025-04-26T14:39:58.420698Z",
     "iopub.status.idle": "2025-04-26T14:39:58.434724Z",
     "shell.execute_reply": "2025-04-26T14:39:58.433877Z"
    },
    "papermill": {
     "duration": 0.027729,
     "end_time": "2025-04-26T14:39:58.436228",
     "exception": false,
     "start_time": "2025-04-26T14:39:58.408499",
     "status": "completed"
    },
    "tags": []
   },
   "outputs": [
    {
     "data": {
      "text/html": [
       "<div>\n",
       "<style scoped>\n",
       "    .dataframe tbody tr th:only-of-type {\n",
       "        vertical-align: middle;\n",
       "    }\n",
       "\n",
       "    .dataframe tbody tr th {\n",
       "        vertical-align: top;\n",
       "    }\n",
       "\n",
       "    .dataframe thead th {\n",
       "        text-align: right;\n",
       "    }\n",
       "</style>\n",
       "<table border=\"1\" class=\"dataframe\">\n",
       "  <thead>\n",
       "    <tr style=\"text-align: right;\">\n",
       "      <th></th>\n",
       "      <th>loan_id</th>\n",
       "      <th>no_of_dependents</th>\n",
       "      <th>education</th>\n",
       "      <th>self_employed</th>\n",
       "      <th>income_annum</th>\n",
       "      <th>loan_amount</th>\n",
       "      <th>loan_term</th>\n",
       "      <th>cibil_score</th>\n",
       "      <th>residential_assets_value</th>\n",
       "      <th>commercial_assets_value</th>\n",
       "      <th>luxury_assets_value</th>\n",
       "      <th>bank_asset_value</th>\n",
       "      <th>loan_status</th>\n",
       "    </tr>\n",
       "  </thead>\n",
       "  <tbody>\n",
       "    <tr>\n",
       "      <th>1446</th>\n",
       "      <td>1447</td>\n",
       "      <td>1</td>\n",
       "      <td>Graduate</td>\n",
       "      <td>No</td>\n",
       "      <td>300000</td>\n",
       "      <td>1200000</td>\n",
       "      <td>18</td>\n",
       "      <td>747</td>\n",
       "      <td>100000</td>\n",
       "      <td>0</td>\n",
       "      <td>700000</td>\n",
       "      <td>200000</td>\n",
       "      <td>Rejected</td>\n",
       "    </tr>\n",
       "    <tr>\n",
       "      <th>3213</th>\n",
       "      <td>3214</td>\n",
       "      <td>1</td>\n",
       "      <td>Not Graduate</td>\n",
       "      <td>Yes</td>\n",
       "      <td>4300000</td>\n",
       "      <td>16300000</td>\n",
       "      <td>14</td>\n",
       "      <td>792</td>\n",
       "      <td>400000</td>\n",
       "      <td>400000</td>\n",
       "      <td>10200000</td>\n",
       "      <td>4000000</td>\n",
       "      <td>Rejected</td>\n",
       "    </tr>\n",
       "  </tbody>\n",
       "</table>\n",
       "</div>"
      ],
      "text/plain": [
       "      loan_id   no_of_dependents      education  self_employed   income_annum  \\\n",
       "1446     1447                  1       Graduate             No         300000   \n",
       "3213     3214                  1   Not Graduate            Yes        4300000   \n",
       "\n",
       "       loan_amount   loan_term   cibil_score   residential_assets_value  \\\n",
       "1446       1200000          18           747                     100000   \n",
       "3213      16300000          14           792                     400000   \n",
       "\n",
       "       commercial_assets_value   luxury_assets_value   bank_asset_value  \\\n",
       "1446                         0                700000             200000   \n",
       "3213                    400000              10200000            4000000   \n",
       "\n",
       "      loan_status  \n",
       "1446     Rejected  \n",
       "3213     Rejected  "
      ]
     },
     "execution_count": 17,
     "metadata": {},
     "output_type": "execute_result"
    }
   ],
   "source": [
    "data.loc[(data[\" no_of_dependents\"] == 1) & \n",
    "(data[\" loan_status\"] ==\" Rejected\") & \n",
    "(data[ ' cibil_score'] > 740)]"
   ]
  },
  {
   "cell_type": "code",
   "execution_count": 18,
   "id": "7aed0898",
   "metadata": {
    "execution": {
     "iopub.execute_input": "2025-04-26T14:39:58.460585Z",
     "iopub.status.busy": "2025-04-26T14:39:58.460281Z",
     "iopub.status.idle": "2025-04-26T14:39:58.466597Z",
     "shell.execute_reply": "2025-04-26T14:39:58.465577Z"
    },
    "papermill": {
     "duration": 0.020749,
     "end_time": "2025-04-26T14:39:58.468418",
     "exception": false,
     "start_time": "2025-04-26T14:39:58.447669",
     "status": "completed"
    },
    "tags": []
   },
   "outputs": [],
   "source": [
    "x = data.drop([\" loan_status\"],axis = 1)\n",
    "y = data[\" loan_status\"]"
   ]
  },
  {
   "cell_type": "code",
   "execution_count": 19,
   "id": "7bf5fede",
   "metadata": {
    "execution": {
     "iopub.execute_input": "2025-04-26T14:39:58.516716Z",
     "iopub.status.busy": "2025-04-26T14:39:58.515966Z",
     "iopub.status.idle": "2025-04-26T14:39:58.520584Z",
     "shell.execute_reply": "2025-04-26T14:39:58.519671Z"
    },
    "papermill": {
     "duration": 0.019618,
     "end_time": "2025-04-26T14:39:58.522284",
     "exception": false,
     "start_time": "2025-04-26T14:39:58.502666",
     "status": "completed"
    },
    "tags": []
   },
   "outputs": [],
   "source": [
    "from sklearn.model_selection import train_test_split"
   ]
  },
  {
   "cell_type": "code",
   "execution_count": 20,
   "id": "23c00bb9",
   "metadata": {
    "execution": {
     "iopub.execute_input": "2025-04-26T14:39:58.546556Z",
     "iopub.status.busy": "2025-04-26T14:39:58.546219Z",
     "iopub.status.idle": "2025-04-26T14:39:58.554543Z",
     "shell.execute_reply": "2025-04-26T14:39:58.553447Z"
    },
    "papermill": {
     "duration": 0.022784,
     "end_time": "2025-04-26T14:39:58.556540",
     "exception": false,
     "start_time": "2025-04-26T14:39:58.533756",
     "status": "completed"
    },
    "tags": []
   },
   "outputs": [],
   "source": [
    "xtrain,xtest,ytrain,ytest = train_test_split(x,y,test_size= 0.2,random_state = 42)"
   ]
  },
  {
   "cell_type": "markdown",
   "id": "94517629",
   "metadata": {
    "execution": {
     "iopub.execute_input": "2025-04-15T13:02:23.821126Z",
     "iopub.status.busy": "2025-04-15T13:02:23.820787Z",
     "iopub.status.idle": "2025-04-15T13:02:23.827516Z",
     "shell.execute_reply": "2025-04-15T13:02:23.826590Z",
     "shell.execute_reply.started": "2025-04-15T13:02:23.821101Z"
    },
    "papermill": {
     "duration": 0.01129,
     "end_time": "2025-04-26T14:39:58.601989",
     "exception": false,
     "start_time": "2025-04-26T14:39:58.590699",
     "status": "completed"
    },
    "tags": []
   },
   "source": [
    "#### Chi squared test"
   ]
  },
  {
   "cell_type": "code",
   "execution_count": 21,
   "id": "4efc8c01",
   "metadata": {
    "execution": {
     "iopub.execute_input": "2025-04-26T14:39:58.626965Z",
     "iopub.status.busy": "2025-04-26T14:39:58.626589Z",
     "iopub.status.idle": "2025-04-26T14:39:58.652779Z",
     "shell.execute_reply": "2025-04-26T14:39:58.651846Z"
    },
    "papermill": {
     "duration": 0.040828,
     "end_time": "2025-04-26T14:39:58.654626",
     "exception": false,
     "start_time": "2025-04-26T14:39:58.613798",
     "status": "completed"
    },
    "tags": []
   },
   "outputs": [],
   "source": [
    "from scipy.stats import chi2_contingency\n",
    "\n",
    "cg_table = pd.crosstab(data[\" education\"],data[' loan_status'])"
   ]
  },
  {
   "cell_type": "code",
   "execution_count": 22,
   "id": "f33831a9",
   "metadata": {
    "execution": {
     "iopub.execute_input": "2025-04-26T14:39:58.678678Z",
     "iopub.status.busy": "2025-04-26T14:39:58.678350Z",
     "iopub.status.idle": "2025-04-26T14:39:58.686940Z",
     "shell.execute_reply": "2025-04-26T14:39:58.685823Z"
    },
    "papermill": {
     "duration": 0.022719,
     "end_time": "2025-04-26T14:39:58.688700",
     "exception": false,
     "start_time": "2025-04-26T14:39:58.665981",
     "status": "completed"
    },
    "tags": []
   },
   "outputs": [],
   "source": [
    "chi2,p,dof,exp = chi2_contingency(cg_table)"
   ]
  },
  {
   "cell_type": "code",
   "execution_count": 23,
   "id": "a32aff06",
   "metadata": {
    "execution": {
     "iopub.execute_input": "2025-04-26T14:39:58.713209Z",
     "iopub.status.busy": "2025-04-26T14:39:58.712786Z",
     "iopub.status.idle": "2025-04-26T14:39:58.719440Z",
     "shell.execute_reply": "2025-04-26T14:39:58.717832Z"
    },
    "papermill": {
     "duration": 0.021055,
     "end_time": "2025-04-26T14:39:58.721236",
     "exception": false,
     "start_time": "2025-04-26T14:39:58.700181",
     "status": "completed"
    },
    "tags": []
   },
   "outputs": [
    {
     "name": "stdout",
     "output_type": "stream",
     "text": [
      "chi square value 0.08395754138250573\n",
      "degree of freedom 1\n",
      "p_value 0.7720042291016309\n",
      "expected frequency table [[1333.91051769  810.08948231]\n",
      " [1322.08948231  802.91051769]]\n"
     ]
    }
   ],
   "source": [
    "print(\"chi square value\", chi2)\n",
    "print(\"degree of freedom\",dof)\n",
    "print(\"p_value\",p)\n",
    "print(\"expected frequency table\", exp)"
   ]
  },
  {
   "cell_type": "markdown",
   "id": "94dffabd",
   "metadata": {
    "papermill": {
     "duration": 0.011839,
     "end_time": "2025-04-26T14:39:58.744461",
     "exception": false,
     "start_time": "2025-04-26T14:39:58.732622",
     "status": "completed"
    },
    "tags": []
   },
   "source": [
    "There are more features are mentioned in dataset. Let's dive into this"
   ]
  },
  {
   "cell_type": "markdown",
   "id": "a3ac1a7b",
   "metadata": {
    "papermill": {
     "duration": 0.011804,
     "end_time": "2025-04-26T14:39:58.767607",
     "exception": false,
     "start_time": "2025-04-26T14:39:58.755803",
     "status": "completed"
    },
    "tags": []
   },
   "source": [
    "lets see the analysis around Residential Assets value\n",
    "it is estimated worth of residential property. \n",
    "meant for living like apartments, house. it reflects at how much rate the property can be sell at current situation.\n",
    "\n",
    "High property value == high loan eligibility"
   ]
  },
  {
   "cell_type": "code",
   "execution_count": 24,
   "id": "a68287ea",
   "metadata": {
    "execution": {
     "iopub.execute_input": "2025-04-26T14:39:58.793178Z",
     "iopub.status.busy": "2025-04-26T14:39:58.792768Z",
     "iopub.status.idle": "2025-04-26T14:39:58.807409Z",
     "shell.execute_reply": "2025-04-26T14:39:58.806468Z"
    },
    "papermill": {
     "duration": 0.029817,
     "end_time": "2025-04-26T14:39:58.808974",
     "exception": false,
     "start_time": "2025-04-26T14:39:58.779157",
     "status": "completed"
    },
    "tags": []
   },
   "outputs": [
    {
     "data": {
      "text/html": [
       "<div>\n",
       "<style scoped>\n",
       "    .dataframe tbody tr th:only-of-type {\n",
       "        vertical-align: middle;\n",
       "    }\n",
       "\n",
       "    .dataframe tbody tr th {\n",
       "        vertical-align: top;\n",
       "    }\n",
       "\n",
       "    .dataframe thead th {\n",
       "        text-align: right;\n",
       "    }\n",
       "</style>\n",
       "<table border=\"1\" class=\"dataframe\">\n",
       "  <thead>\n",
       "    <tr style=\"text-align: right;\">\n",
       "      <th></th>\n",
       "      <th>loan_id</th>\n",
       "      <th>no_of_dependents</th>\n",
       "      <th>education</th>\n",
       "      <th>self_employed</th>\n",
       "      <th>income_annum</th>\n",
       "      <th>loan_amount</th>\n",
       "      <th>loan_term</th>\n",
       "      <th>cibil_score</th>\n",
       "      <th>residential_assets_value</th>\n",
       "      <th>commercial_assets_value</th>\n",
       "      <th>luxury_assets_value</th>\n",
       "      <th>bank_asset_value</th>\n",
       "      <th>loan_status</th>\n",
       "    </tr>\n",
       "  </thead>\n",
       "  <tbody>\n",
       "    <tr>\n",
       "      <th>3119</th>\n",
       "      <td>3120</td>\n",
       "      <td>4</td>\n",
       "      <td>Not Graduate</td>\n",
       "      <td>No</td>\n",
       "      <td>9800000</td>\n",
       "      <td>29400000</td>\n",
       "      <td>8</td>\n",
       "      <td>592</td>\n",
       "      <td>29100000</td>\n",
       "      <td>16700000</td>\n",
       "      <td>35900000</td>\n",
       "      <td>9000000</td>\n",
       "      <td>Approved</td>\n",
       "    </tr>\n",
       "  </tbody>\n",
       "</table>\n",
       "</div>"
      ],
      "text/plain": [
       "      loan_id   no_of_dependents      education  self_employed   income_annum  \\\n",
       "3119     3120                  4   Not Graduate             No        9800000   \n",
       "\n",
       "       loan_amount   loan_term   cibil_score   residential_assets_value  \\\n",
       "3119      29400000           8           592                   29100000   \n",
       "\n",
       "       commercial_assets_value   luxury_assets_value   bank_asset_value  \\\n",
       "3119                  16700000              35900000            9000000   \n",
       "\n",
       "      loan_status  \n",
       "3119     Approved  "
      ]
     },
     "execution_count": 24,
     "metadata": {},
     "output_type": "execute_result"
    }
   ],
   "source": [
    "data.loc[(data[\" residential_assets_value\"]== data[\" residential_assets_value\"].max()) & (data[\" loan_status\"]==\" Approved\")]"
   ]
  },
  {
   "cell_type": "code",
   "execution_count": 25,
   "id": "6726617a",
   "metadata": {
    "execution": {
     "iopub.execute_input": "2025-04-26T14:39:58.833573Z",
     "iopub.status.busy": "2025-04-26T14:39:58.833249Z",
     "iopub.status.idle": "2025-04-26T14:39:58.844861Z",
     "shell.execute_reply": "2025-04-26T14:39:58.843736Z"
    },
    "papermill": {
     "duration": 0.026097,
     "end_time": "2025-04-26T14:39:58.846545",
     "exception": false,
     "start_time": "2025-04-26T14:39:58.820448",
     "status": "completed"
    },
    "tags": []
   },
   "outputs": [
    {
     "data": {
      "text/html": [
       "<div>\n",
       "<style scoped>\n",
       "    .dataframe tbody tr th:only-of-type {\n",
       "        vertical-align: middle;\n",
       "    }\n",
       "\n",
       "    .dataframe tbody tr th {\n",
       "        vertical-align: top;\n",
       "    }\n",
       "\n",
       "    .dataframe thead th {\n",
       "        text-align: right;\n",
       "    }\n",
       "</style>\n",
       "<table border=\"1\" class=\"dataframe\">\n",
       "  <thead>\n",
       "    <tr style=\"text-align: right;\">\n",
       "      <th></th>\n",
       "      <th>loan_id</th>\n",
       "      <th>no_of_dependents</th>\n",
       "      <th>education</th>\n",
       "      <th>self_employed</th>\n",
       "      <th>income_annum</th>\n",
       "      <th>loan_amount</th>\n",
       "      <th>loan_term</th>\n",
       "      <th>cibil_score</th>\n",
       "      <th>residential_assets_value</th>\n",
       "      <th>commercial_assets_value</th>\n",
       "      <th>luxury_assets_value</th>\n",
       "      <th>bank_asset_value</th>\n",
       "      <th>loan_status</th>\n",
       "    </tr>\n",
       "  </thead>\n",
       "  <tbody>\n",
       "  </tbody>\n",
       "</table>\n",
       "</div>"
      ],
      "text/plain": [
       "Empty DataFrame\n",
       "Columns: [loan_id,  no_of_dependents,  education,  self_employed,  income_annum,  loan_amount,  loan_term,  cibil_score,  residential_assets_value,  commercial_assets_value,  luxury_assets_value,  bank_asset_value,  loan_status]\n",
       "Index: []"
      ]
     },
     "execution_count": 25,
     "metadata": {},
     "output_type": "execute_result"
    }
   ],
   "source": [
    "data.loc[(data[\" residential_assets_value\"]== data[\" residential_assets_value\"].max()) & (data[\" loan_status\"]==\" Rejected\")]"
   ]
  },
  {
   "cell_type": "code",
   "execution_count": 26,
   "id": "021d4ad1",
   "metadata": {
    "execution": {
     "iopub.execute_input": "2025-04-26T14:39:58.871262Z",
     "iopub.status.busy": "2025-04-26T14:39:58.870929Z",
     "iopub.status.idle": "2025-04-26T14:39:58.877332Z",
     "shell.execute_reply": "2025-04-26T14:39:58.876396Z"
    },
    "papermill": {
     "duration": 0.020491,
     "end_time": "2025-04-26T14:39:58.878877",
     "exception": false,
     "start_time": "2025-04-26T14:39:58.858386",
     "status": "completed"
    },
    "tags": []
   },
   "outputs": [
    {
     "data": {
      "text/plain": [
       "29100000"
      ]
     },
     "execution_count": 26,
     "metadata": {},
     "output_type": "execute_result"
    }
   ],
   "source": [
    "data[\" residential_assets_value\"].max()"
   ]
  },
  {
   "cell_type": "markdown",
   "id": "4f26e108",
   "metadata": {
    "papermill": {
     "duration": 0.012105,
     "end_time": "2025-04-26T14:39:58.902863",
     "exception": false,
     "start_time": "2025-04-26T14:39:58.890758",
     "status": "completed"
    },
    "tags": []
   },
   "source": [
    "lets see the how income annum and loan_amount affect the status of loan"
   ]
  },
  {
   "cell_type": "code",
   "execution_count": 27,
   "id": "69a613f2",
   "metadata": {
    "execution": {
     "iopub.execute_input": "2025-04-26T14:39:58.928560Z",
     "iopub.status.busy": "2025-04-26T14:39:58.928245Z",
     "iopub.status.idle": "2025-04-26T14:39:58.943191Z",
     "shell.execute_reply": "2025-04-26T14:39:58.941992Z"
    },
    "papermill": {
     "duration": 0.030201,
     "end_time": "2025-04-26T14:39:58.945009",
     "exception": false,
     "start_time": "2025-04-26T14:39:58.914808",
     "status": "completed"
    },
    "tags": []
   },
   "outputs": [
    {
     "data": {
      "text/html": [
       "<div>\n",
       "<style scoped>\n",
       "    .dataframe tbody tr th:only-of-type {\n",
       "        vertical-align: middle;\n",
       "    }\n",
       "\n",
       "    .dataframe tbody tr th {\n",
       "        vertical-align: top;\n",
       "    }\n",
       "\n",
       "    .dataframe thead th {\n",
       "        text-align: right;\n",
       "    }\n",
       "</style>\n",
       "<table border=\"1\" class=\"dataframe\">\n",
       "  <thead>\n",
       "    <tr style=\"text-align: right;\">\n",
       "      <th></th>\n",
       "      <th>loan_id</th>\n",
       "      <th>no_of_dependents</th>\n",
       "      <th>education</th>\n",
       "      <th>self_employed</th>\n",
       "      <th>income_annum</th>\n",
       "      <th>loan_amount</th>\n",
       "      <th>loan_term</th>\n",
       "      <th>cibil_score</th>\n",
       "      <th>residential_assets_value</th>\n",
       "      <th>commercial_assets_value</th>\n",
       "      <th>luxury_assets_value</th>\n",
       "      <th>bank_asset_value</th>\n",
       "      <th>loan_status</th>\n",
       "    </tr>\n",
       "  </thead>\n",
       "  <tbody>\n",
       "    <tr>\n",
       "      <th>236</th>\n",
       "      <td>237</td>\n",
       "      <td>3</td>\n",
       "      <td>Graduate</td>\n",
       "      <td>Yes</td>\n",
       "      <td>900000</td>\n",
       "      <td>3500000</td>\n",
       "      <td>4</td>\n",
       "      <td>770</td>\n",
       "      <td>700000</td>\n",
       "      <td>0</td>\n",
       "      <td>2000000</td>\n",
       "      <td>600000</td>\n",
       "      <td>Rejected</td>\n",
       "    </tr>\n",
       "    <tr>\n",
       "      <th>559</th>\n",
       "      <td>560</td>\n",
       "      <td>2</td>\n",
       "      <td>Graduate</td>\n",
       "      <td>Yes</td>\n",
       "      <td>200000</td>\n",
       "      <td>500000</td>\n",
       "      <td>6</td>\n",
       "      <td>885</td>\n",
       "      <td>-100000</td>\n",
       "      <td>0</td>\n",
       "      <td>300000</td>\n",
       "      <td>200000</td>\n",
       "      <td>Rejected</td>\n",
       "    </tr>\n",
       "    <tr>\n",
       "      <th>911</th>\n",
       "      <td>912</td>\n",
       "      <td>0</td>\n",
       "      <td>Graduate</td>\n",
       "      <td>Yes</td>\n",
       "      <td>1300000</td>\n",
       "      <td>4800000</td>\n",
       "      <td>4</td>\n",
       "      <td>835</td>\n",
       "      <td>500000</td>\n",
       "      <td>100000</td>\n",
       "      <td>3300000</td>\n",
       "      <td>800000</td>\n",
       "      <td>Rejected</td>\n",
       "    </tr>\n",
       "    <tr>\n",
       "      <th>1446</th>\n",
       "      <td>1447</td>\n",
       "      <td>1</td>\n",
       "      <td>Graduate</td>\n",
       "      <td>No</td>\n",
       "      <td>300000</td>\n",
       "      <td>1200000</td>\n",
       "      <td>18</td>\n",
       "      <td>747</td>\n",
       "      <td>100000</td>\n",
       "      <td>0</td>\n",
       "      <td>700000</td>\n",
       "      <td>200000</td>\n",
       "      <td>Rejected</td>\n",
       "    </tr>\n",
       "    <tr>\n",
       "      <th>3213</th>\n",
       "      <td>3214</td>\n",
       "      <td>1</td>\n",
       "      <td>Not Graduate</td>\n",
       "      <td>Yes</td>\n",
       "      <td>4300000</td>\n",
       "      <td>16300000</td>\n",
       "      <td>14</td>\n",
       "      <td>792</td>\n",
       "      <td>400000</td>\n",
       "      <td>400000</td>\n",
       "      <td>10200000</td>\n",
       "      <td>4000000</td>\n",
       "      <td>Rejected</td>\n",
       "    </tr>\n",
       "    <tr>\n",
       "      <th>3527</th>\n",
       "      <td>3528</td>\n",
       "      <td>0</td>\n",
       "      <td>Graduate</td>\n",
       "      <td>No</td>\n",
       "      <td>1800000</td>\n",
       "      <td>6900000</td>\n",
       "      <td>10</td>\n",
       "      <td>853</td>\n",
       "      <td>900000</td>\n",
       "      <td>400000</td>\n",
       "      <td>3700000</td>\n",
       "      <td>1700000</td>\n",
       "      <td>Rejected</td>\n",
       "    </tr>\n",
       "    <tr>\n",
       "      <th>4099</th>\n",
       "      <td>4100</td>\n",
       "      <td>3</td>\n",
       "      <td>Graduate</td>\n",
       "      <td>No</td>\n",
       "      <td>8700000</td>\n",
       "      <td>31100000</td>\n",
       "      <td>16</td>\n",
       "      <td>760</td>\n",
       "      <td>400000</td>\n",
       "      <td>1800000</td>\n",
       "      <td>19300000</td>\n",
       "      <td>4800000</td>\n",
       "      <td>Rejected</td>\n",
       "    </tr>\n",
       "  </tbody>\n",
       "</table>\n",
       "</div>"
      ],
      "text/plain": [
       "      loan_id   no_of_dependents      education  self_employed   income_annum  \\\n",
       "236       237                  3       Graduate            Yes         900000   \n",
       "559       560                  2       Graduate            Yes         200000   \n",
       "911       912                  0       Graduate            Yes        1300000   \n",
       "1446     1447                  1       Graduate             No         300000   \n",
       "3213     3214                  1   Not Graduate            Yes        4300000   \n",
       "3527     3528                  0       Graduate             No        1800000   \n",
       "4099     4100                  3       Graduate             No        8700000   \n",
       "\n",
       "       loan_amount   loan_term   cibil_score   residential_assets_value  \\\n",
       "236        3500000           4           770                     700000   \n",
       "559         500000           6           885                    -100000   \n",
       "911        4800000           4           835                     500000   \n",
       "1446       1200000          18           747                     100000   \n",
       "3213      16300000          14           792                     400000   \n",
       "3527       6900000          10           853                     900000   \n",
       "4099      31100000          16           760                     400000   \n",
       "\n",
       "       commercial_assets_value   luxury_assets_value   bank_asset_value  \\\n",
       "236                          0               2000000             600000   \n",
       "559                          0                300000             200000   \n",
       "911                     100000               3300000             800000   \n",
       "1446                         0                700000             200000   \n",
       "3213                    400000              10200000            4000000   \n",
       "3527                    400000               3700000            1700000   \n",
       "4099                   1800000              19300000            4800000   \n",
       "\n",
       "      loan_status  \n",
       "236      Rejected  \n",
       "559      Rejected  \n",
       "911      Rejected  \n",
       "1446     Rejected  \n",
       "3213     Rejected  \n",
       "3527     Rejected  \n",
       "4099     Rejected  "
      ]
     },
     "execution_count": 27,
     "metadata": {},
     "output_type": "execute_result"
    }
   ],
   "source": [
    "data.loc[\n",
    "    (data[\" income_annum\"] < data[\" loan_amount\"]) & \n",
    "    (data[\" loan_status\"] == \" Rejected\") & (data[\" cibil_score\"] >740)\n",
    "]\n"
   ]
  },
  {
   "cell_type": "markdown",
   "id": "039cc66f",
   "metadata": {
    "papermill": {
     "duration": 0.012168,
     "end_time": "2025-04-26T14:39:58.970155",
     "exception": false,
     "start_time": "2025-04-26T14:39:58.957987",
     "status": "completed"
    },
    "tags": []
   },
   "source": [
    "on basis of laon_amount, income annum, loan_status and cibil score we can say that there are total 7 loan application is rejected even after better cibil score.\n",
    "\n",
    "There are maybe some factors affecting. it can be commercial asset value or residential asset value"
   ]
  },
  {
   "cell_type": "code",
   "execution_count": 28,
   "id": "88577ad5",
   "metadata": {
    "execution": {
     "iopub.execute_input": "2025-04-26T14:39:58.996050Z",
     "iopub.status.busy": "2025-04-26T14:39:58.995723Z",
     "iopub.status.idle": "2025-04-26T14:39:59.011570Z",
     "shell.execute_reply": "2025-04-26T14:39:59.010648Z"
    },
    "papermill": {
     "duration": 0.03095,
     "end_time": "2025-04-26T14:39:59.013296",
     "exception": false,
     "start_time": "2025-04-26T14:39:58.982346",
     "status": "completed"
    },
    "tags": []
   },
   "outputs": [
    {
     "data": {
      "text/html": [
       "<div>\n",
       "<style scoped>\n",
       "    .dataframe tbody tr th:only-of-type {\n",
       "        vertical-align: middle;\n",
       "    }\n",
       "\n",
       "    .dataframe tbody tr th {\n",
       "        vertical-align: top;\n",
       "    }\n",
       "\n",
       "    .dataframe thead th {\n",
       "        text-align: right;\n",
       "    }\n",
       "</style>\n",
       "<table border=\"1\" class=\"dataframe\">\n",
       "  <thead>\n",
       "    <tr style=\"text-align: right;\">\n",
       "      <th></th>\n",
       "      <th>loan_id</th>\n",
       "      <th>no_of_dependents</th>\n",
       "      <th>education</th>\n",
       "      <th>self_employed</th>\n",
       "      <th>income_annum</th>\n",
       "      <th>loan_amount</th>\n",
       "      <th>loan_term</th>\n",
       "      <th>cibil_score</th>\n",
       "      <th>residential_assets_value</th>\n",
       "      <th>commercial_assets_value</th>\n",
       "      <th>luxury_assets_value</th>\n",
       "      <th>bank_asset_value</th>\n",
       "      <th>loan_status</th>\n",
       "    </tr>\n",
       "  </thead>\n",
       "  <tbody>\n",
       "    <tr>\n",
       "      <th>0</th>\n",
       "      <td>1</td>\n",
       "      <td>2</td>\n",
       "      <td>Graduate</td>\n",
       "      <td>No</td>\n",
       "      <td>9600000</td>\n",
       "      <td>29900000</td>\n",
       "      <td>12</td>\n",
       "      <td>778</td>\n",
       "      <td>2400000</td>\n",
       "      <td>17600000</td>\n",
       "      <td>22700000</td>\n",
       "      <td>8000000</td>\n",
       "      <td>Approved</td>\n",
       "    </tr>\n",
       "    <tr>\n",
       "      <th>8</th>\n",
       "      <td>9</td>\n",
       "      <td>0</td>\n",
       "      <td>Graduate</td>\n",
       "      <td>Yes</td>\n",
       "      <td>800000</td>\n",
       "      <td>2200000</td>\n",
       "      <td>20</td>\n",
       "      <td>782</td>\n",
       "      <td>1300000</td>\n",
       "      <td>800000</td>\n",
       "      <td>2800000</td>\n",
       "      <td>600000</td>\n",
       "      <td>Approved</td>\n",
       "    </tr>\n",
       "    <tr>\n",
       "      <th>15</th>\n",
       "      <td>16</td>\n",
       "      <td>5</td>\n",
       "      <td>Not Graduate</td>\n",
       "      <td>No</td>\n",
       "      <td>4700000</td>\n",
       "      <td>10700000</td>\n",
       "      <td>10</td>\n",
       "      <td>794</td>\n",
       "      <td>5700000</td>\n",
       "      <td>3900000</td>\n",
       "      <td>16400000</td>\n",
       "      <td>4400000</td>\n",
       "      <td>Approved</td>\n",
       "    </tr>\n",
       "    <tr>\n",
       "      <th>17</th>\n",
       "      <td>18</td>\n",
       "      <td>4</td>\n",
       "      <td>Not Graduate</td>\n",
       "      <td>Yes</td>\n",
       "      <td>2900000</td>\n",
       "      <td>9400000</td>\n",
       "      <td>14</td>\n",
       "      <td>780</td>\n",
       "      <td>2900000</td>\n",
       "      <td>2800000</td>\n",
       "      <td>6700000</td>\n",
       "      <td>4300000</td>\n",
       "      <td>Approved</td>\n",
       "    </tr>\n",
       "    <tr>\n",
       "      <th>29</th>\n",
       "      <td>30</td>\n",
       "      <td>3</td>\n",
       "      <td>Not Graduate</td>\n",
       "      <td>Yes</td>\n",
       "      <td>9000000</td>\n",
       "      <td>31500000</td>\n",
       "      <td>10</td>\n",
       "      <td>850</td>\n",
       "      <td>21800000</td>\n",
       "      <td>12400000</td>\n",
       "      <td>33700000</td>\n",
       "      <td>8000000</td>\n",
       "      <td>Approved</td>\n",
       "    </tr>\n",
       "    <tr>\n",
       "      <th>...</th>\n",
       "      <td>...</td>\n",
       "      <td>...</td>\n",
       "      <td>...</td>\n",
       "      <td>...</td>\n",
       "      <td>...</td>\n",
       "      <td>...</td>\n",
       "      <td>...</td>\n",
       "      <td>...</td>\n",
       "      <td>...</td>\n",
       "      <td>...</td>\n",
       "      <td>...</td>\n",
       "      <td>...</td>\n",
       "      <td>...</td>\n",
       "    </tr>\n",
       "    <tr>\n",
       "      <th>4249</th>\n",
       "      <td>4250</td>\n",
       "      <td>4</td>\n",
       "      <td>Graduate</td>\n",
       "      <td>No</td>\n",
       "      <td>1100000</td>\n",
       "      <td>4000000</td>\n",
       "      <td>14</td>\n",
       "      <td>887</td>\n",
       "      <td>2400000</td>\n",
       "      <td>1500000</td>\n",
       "      <td>4200000</td>\n",
       "      <td>1600000</td>\n",
       "      <td>Approved</td>\n",
       "    </tr>\n",
       "    <tr>\n",
       "      <th>4253</th>\n",
       "      <td>4254</td>\n",
       "      <td>5</td>\n",
       "      <td>Graduate</td>\n",
       "      <td>Yes</td>\n",
       "      <td>7000000</td>\n",
       "      <td>26200000</td>\n",
       "      <td>12</td>\n",
       "      <td>896</td>\n",
       "      <td>13100000</td>\n",
       "      <td>6600000</td>\n",
       "      <td>23600000</td>\n",
       "      <td>5700000</td>\n",
       "      <td>Approved</td>\n",
       "    </tr>\n",
       "    <tr>\n",
       "      <th>4261</th>\n",
       "      <td>4262</td>\n",
       "      <td>3</td>\n",
       "      <td>Graduate</td>\n",
       "      <td>Yes</td>\n",
       "      <td>3000000</td>\n",
       "      <td>7500000</td>\n",
       "      <td>6</td>\n",
       "      <td>881</td>\n",
       "      <td>1400000</td>\n",
       "      <td>4500000</td>\n",
       "      <td>6100000</td>\n",
       "      <td>2300000</td>\n",
       "      <td>Approved</td>\n",
       "    </tr>\n",
       "    <tr>\n",
       "      <th>4263</th>\n",
       "      <td>4264</td>\n",
       "      <td>3</td>\n",
       "      <td>Graduate</td>\n",
       "      <td>No</td>\n",
       "      <td>5000000</td>\n",
       "      <td>12700000</td>\n",
       "      <td>14</td>\n",
       "      <td>865</td>\n",
       "      <td>4700000</td>\n",
       "      <td>8100000</td>\n",
       "      <td>19500000</td>\n",
       "      <td>6300000</td>\n",
       "      <td>Approved</td>\n",
       "    </tr>\n",
       "    <tr>\n",
       "      <th>4267</th>\n",
       "      <td>4268</td>\n",
       "      <td>1</td>\n",
       "      <td>Not Graduate</td>\n",
       "      <td>No</td>\n",
       "      <td>4100000</td>\n",
       "      <td>12800000</td>\n",
       "      <td>8</td>\n",
       "      <td>780</td>\n",
       "      <td>8200000</td>\n",
       "      <td>700000</td>\n",
       "      <td>14100000</td>\n",
       "      <td>5800000</td>\n",
       "      <td>Approved</td>\n",
       "    </tr>\n",
       "  </tbody>\n",
       "</table>\n",
       "<p>1115 rows × 13 columns</p>\n",
       "</div>"
      ],
      "text/plain": [
       "      loan_id   no_of_dependents      education  self_employed   income_annum  \\\n",
       "0           1                  2       Graduate             No        9600000   \n",
       "8           9                  0       Graduate            Yes         800000   \n",
       "15         16                  5   Not Graduate             No        4700000   \n",
       "17         18                  4   Not Graduate            Yes        2900000   \n",
       "29         30                  3   Not Graduate            Yes        9000000   \n",
       "...       ...                ...            ...            ...            ...   \n",
       "4249     4250                  4       Graduate             No        1100000   \n",
       "4253     4254                  5       Graduate            Yes        7000000   \n",
       "4261     4262                  3       Graduate            Yes        3000000   \n",
       "4263     4264                  3       Graduate             No        5000000   \n",
       "4267     4268                  1   Not Graduate             No        4100000   \n",
       "\n",
       "       loan_amount   loan_term   cibil_score   residential_assets_value  \\\n",
       "0         29900000          12           778                    2400000   \n",
       "8          2200000          20           782                    1300000   \n",
       "15        10700000          10           794                    5700000   \n",
       "17         9400000          14           780                    2900000   \n",
       "29        31500000          10           850                   21800000   \n",
       "...            ...         ...           ...                        ...   \n",
       "4249       4000000          14           887                    2400000   \n",
       "4253      26200000          12           896                   13100000   \n",
       "4261       7500000           6           881                    1400000   \n",
       "4263      12700000          14           865                    4700000   \n",
       "4267      12800000           8           780                    8200000   \n",
       "\n",
       "       commercial_assets_value   luxury_assets_value   bank_asset_value  \\\n",
       "0                     17600000              22700000            8000000   \n",
       "8                       800000               2800000             600000   \n",
       "15                     3900000              16400000            4400000   \n",
       "17                     2800000               6700000            4300000   \n",
       "29                    12400000              33700000            8000000   \n",
       "...                        ...                   ...                ...   \n",
       "4249                   1500000               4200000            1600000   \n",
       "4253                   6600000              23600000            5700000   \n",
       "4261                   4500000               6100000            2300000   \n",
       "4263                   8100000              19500000            6300000   \n",
       "4267                    700000              14100000            5800000   \n",
       "\n",
       "      loan_status  \n",
       "0        Approved  \n",
       "8        Approved  \n",
       "15       Approved  \n",
       "17       Approved  \n",
       "29       Approved  \n",
       "...           ...  \n",
       "4249     Approved  \n",
       "4253     Approved  \n",
       "4261     Approved  \n",
       "4263     Approved  \n",
       "4267     Approved  \n",
       "\n",
       "[1115 rows x 13 columns]"
      ]
     },
     "execution_count": 28,
     "metadata": {},
     "output_type": "execute_result"
    }
   ],
   "source": [
    "data.loc[\n",
    "    (data[\" income_annum\"] < data[\" loan_amount\"]) & \n",
    "    (data[\" loan_status\"] == \" Approved\") & (data[\" cibil_score\"] >740)\n",
    "]\n"
   ]
  },
  {
   "cell_type": "markdown",
   "id": "2d4c0900",
   "metadata": {
    "papermill": {
     "duration": 0.013271,
     "end_time": "2025-04-26T14:39:59.039436",
     "exception": false,
     "start_time": "2025-04-26T14:39:59.026165",
     "status": "completed"
    },
    "tags": []
   },
   "source": [
    "so  We can see the difference between two tables clearly that the cibil score is better even residential,commercial,bank and luxury asset values are good in terms of getting a loan. \n"
   ]
  },
  {
   "cell_type": "markdown",
   "id": "1651ddda",
   "metadata": {
    "execution": {
     "iopub.execute_input": "2025-04-26T14:32:39.576643Z",
     "iopub.status.busy": "2025-04-26T14:32:39.575783Z",
     "iopub.status.idle": "2025-04-26T14:32:39.583524Z",
     "shell.execute_reply": "2025-04-26T14:32:39.581979Z",
     "shell.execute_reply.started": "2025-04-26T14:32:39.576604Z"
    },
    "papermill": {
     "duration": 0.01261,
     "end_time": "2025-04-26T14:39:59.065276",
     "exception": false,
     "start_time": "2025-04-26T14:39:59.052666",
     "status": "completed"
    },
    "tags": []
   },
   "source": [
    "# Feature engineering"
   ]
  },
  {
   "cell_type": "code",
   "execution_count": 29,
   "id": "e209d11f",
   "metadata": {
    "execution": {
     "iopub.execute_input": "2025-04-26T14:39:59.091605Z",
     "iopub.status.busy": "2025-04-26T14:39:59.091267Z",
     "iopub.status.idle": "2025-04-26T14:39:59.101630Z",
     "shell.execute_reply": "2025-04-26T14:39:59.100622Z"
    },
    "papermill": {
     "duration": 0.025609,
     "end_time": "2025-04-26T14:39:59.103275",
     "exception": false,
     "start_time": "2025-04-26T14:39:59.077666",
     "status": "completed"
    },
    "tags": []
   },
   "outputs": [],
   "source": [
    "#Encode categorical variables\n",
    "from sklearn.preprocessing import LabelEncoder\n",
    "\n",
    "le = LabelEncoder()\n",
    "\n",
    "data[\" education\"] = le.fit_transform(data[\" education\"])\n",
    "data[\" self_employed\"] = le.fit_transform(data[\" self_employed\"])\n",
    "data[\" loan_status\"] = le.fit_transform(data[\" loan_status\"])\n"
   ]
  },
  {
   "cell_type": "code",
   "execution_count": 30,
   "id": "5c8f744e",
   "metadata": {
    "execution": {
     "iopub.execute_input": "2025-04-26T14:39:59.129501Z",
     "iopub.status.busy": "2025-04-26T14:39:59.129108Z",
     "iopub.status.idle": "2025-04-26T14:39:59.773906Z",
     "shell.execute_reply": "2025-04-26T14:39:59.772862Z"
    },
    "papermill": {
     "duration": 0.663069,
     "end_time": "2025-04-26T14:39:59.778613",
     "exception": false,
     "start_time": "2025-04-26T14:39:59.115544",
     "status": "completed"
    },
    "tags": []
   },
   "outputs": [
    {
     "data": {
      "image/png": "[encoded data removed]",
      "text/plain": [
       "<Figure size 1000x600 with 2 Axes>"
      ]
     },
     "metadata": {},
     "output_type": "display_data"
    }
   ],
   "source": [
    "\n",
    "import seaborn as sns\n",
    "import matplotlib.pyplot as plt\n",
    "\n",
    "corr = data.corr()\n",
    "plt.figure(figsize=(10,6))\n",
    "sns.heatmap(corr, annot=True, cmap=\"coolwarm\")\n",
    "plt.show()\n"
   ]
  },
  {
   "cell_type": "markdown",
   "id": "f00ed536",
   "metadata": {
    "papermill": {
     "duration": 0.015873,
     "end_time": "2025-04-26T14:39:59.811403",
     "exception": false,
     "start_time": "2025-04-26T14:39:59.795530",
     "status": "completed"
    },
    "tags": []
   },
   "source": [
    "# Standardization"
   ]
  },
  {
   "cell_type": "code",
   "execution_count": 31,
   "id": "7ecdcb0a",
   "metadata": {
    "execution": {
     "iopub.execute_input": "2025-04-26T14:39:59.844565Z",
     "iopub.status.busy": "2025-04-26T14:39:59.844193Z",
     "iopub.status.idle": "2025-04-26T14:39:59.974909Z",
     "shell.execute_reply": "2025-04-26T14:39:59.973962Z"
    },
    "papermill": {
     "duration": 0.14942,
     "end_time": "2025-04-26T14:39:59.976614",
     "exception": false,
     "start_time": "2025-04-26T14:39:59.827194",
     "status": "completed"
    },
    "tags": []
   },
   "outputs": [],
   "source": [
    "from sklearn.preprocessing import StandardScaler\n",
    "from sklearn.pipeline import Pipeline\n",
    "from sklearn.linear_model import LogisticRegression"
   ]
  },
  {
   "cell_type": "code",
   "execution_count": 32,
   "id": "f5e41baa",
   "metadata": {
    "execution": {
     "iopub.execute_input": "2025-04-26T14:40:00.010536Z",
     "iopub.status.busy": "2025-04-26T14:40:00.010186Z",
     "iopub.status.idle": "2025-04-26T14:40:00.015361Z",
     "shell.execute_reply": "2025-04-26T14:40:00.014328Z"
    },
    "papermill": {
     "duration": 0.024839,
     "end_time": "2025-04-26T14:40:00.017510",
     "exception": false,
     "start_time": "2025-04-26T14:39:59.992671",
     "status": "completed"
    },
    "tags": []
   },
   "outputs": [],
   "source": [
    "pipeline = Pipeline([\n",
    "    ('scaler', StandardScaler()),                      # Step 1: scale features\n",
    "    ('classifier', LogisticRegression())               #step 2: define the model\n",
    "])"
   ]
  },
  {
   "cell_type": "code",
   "execution_count": 33,
   "id": "188a47dd",
   "metadata": {
    "execution": {
     "iopub.execute_input": "2025-04-26T14:40:00.051875Z",
     "iopub.status.busy": "2025-04-26T14:40:00.051551Z",
     "iopub.status.idle": "2025-04-26T14:40:00.058125Z",
     "shell.execute_reply": "2025-04-26T14:40:00.056886Z"
    },
    "papermill": {
     "duration": 0.025698,
     "end_time": "2025-04-26T14:40:00.059829",
     "exception": false,
     "start_time": "2025-04-26T14:40:00.034131",
     "status": "completed"
    },
    "tags": []
   },
   "outputs": [],
   "source": [
    "x = data.drop([\" loan_status\"], axis = 1)\n",
    "y = data[\" loan_status\"]"
   ]
  },
  {
   "cell_type": "markdown",
   "id": "d1f2502a",
   "metadata": {
    "papermill": {
     "duration": 0.015826,
     "end_time": "2025-04-26T14:40:00.092440",
     "exception": false,
     "start_time": "2025-04-26T14:40:00.076614",
     "status": "completed"
    },
    "tags": []
   },
   "source": [
    "# Train test split"
   ]
  },
  {
   "cell_type": "code",
   "execution_count": 34,
   "id": "410988a3",
   "metadata": {
    "execution": {
     "iopub.execute_input": "2025-04-26T14:40:00.127729Z",
     "iopub.status.busy": "2025-04-26T14:40:00.127394Z",
     "iopub.status.idle": "2025-04-26T14:40:00.137595Z",
     "shell.execute_reply": "2025-04-26T14:40:00.136406Z"
    },
    "papermill": {
     "duration": 0.02951,
     "end_time": "2025-04-26T14:40:00.139561",
     "exception": false,
     "start_time": "2025-04-26T14:40:00.110051",
     "status": "completed"
    },
    "tags": []
   },
   "outputs": [],
   "source": [
    "from sklearn.model_selection import train_test_split\n",
    "xtrain,xtest,ytrain,ytest = train_test_split(x,y, test_size = 0.2, random_state = 42)"
   ]
  },
  {
   "cell_type": "code",
   "execution_count": 35,
   "id": "e84055d4",
   "metadata": {
    "execution": {
     "iopub.execute_input": "2025-04-26T14:40:00.176165Z",
     "iopub.status.busy": "2025-04-26T14:40:00.174710Z",
     "iopub.status.idle": "2025-04-26T14:40:00.305128Z",
     "shell.execute_reply": "2025-04-26T14:40:00.301939Z"
    },
    "papermill": {
     "duration": 0.151971,
     "end_time": "2025-04-26T14:40:00.307786",
     "exception": false,
     "start_time": "2025-04-26T14:40:00.155815",
     "status": "completed"
    },
    "tags": []
   },
   "outputs": [
    {
     "data": {
      "text/html": [
       "<style>#sk-container-id-1 {color: black;background-color: white;}#sk-container-id-1 pre{padding: 0;}#sk-container-id-1 div.sk-toggleable {background-color: white;}#sk-container-id-1 label.sk-toggleable__label {cursor: pointer;display: block;width: 100%;margin-bottom: 0;padding: 0.3em;box-sizing: border-box;text-align: center;}#sk-container-id-1 label.sk-toggleable__label-arrow:before {content: \"▸\";float: left;margin-right: 0.25em;color: #696969;}#sk-container-id-1 label.sk-toggleable__label-arrow:hover:before {color: black;}#sk-container-id-1 div.sk-estimator:hover label.sk-toggleable__label-arrow:before {color: black;}#sk-container-id-1 div.sk-toggleable__content {max-height: 0;max-width: 0;overflow: hidden;text-align: left;background-color: #f0f8ff;}#sk-container-id-1 div.sk-toggleable__content pre {margin: 0.2em;color: black;border-radius: 0.25em;background-color: #f0f8ff;}#sk-container-id-1 input.sk-toggleable__control:checked~div.sk-toggleable__content {max-height: 200px;max-width: 100%;overflow: auto;}#sk-container-id-1 input.sk-toggleable__control:checked~label.sk-toggleable__label-arrow:before {content: \"▾\";}#sk-container-id-1 div.sk-estimator input.sk-toggleable__control:checked~label.sk-toggleable__label {background-color: #d4ebff;}#sk-container-id-1 div.sk-label input.sk-toggleable__control:checked~label.sk-toggleable__label {background-color: #d4ebff;}#sk-container-id-1 input.sk-hidden--visually {border: 0;clip: rect(1px 1px 1px 1px);clip: rect(1px, 1px, 1px, 1px);height: 1px;margin: -1px;overflow: hidden;padding: 0;position: absolute;width: 1px;}#sk-container-id-1 div.sk-estimator {font-family: monospace;background-color: #f0f8ff;border: 1px dotted black;border-radius: 0.25em;box-sizing: border-box;margin-bottom: 0.5em;}#sk-container-id-1 div.sk-estimator:hover {background-color: #d4ebff;}#sk-container-id-1 div.sk-parallel-item::after {content: \"\";width: 100%;border-bottom: 1px solid gray;flex-grow: 1;}#sk-container-id-1 div.sk-label:hover label.sk-toggleable__label {background-color: #d4ebff;}#sk-container-id-1 div.sk-serial::before {content: \"\";position: absolute;border-left: 1px solid gray;box-sizing: border-box;top: 0;bottom: 0;left: 50%;z-index: 0;}#sk-container-id-1 div.sk-serial {display: flex;flex-direction: column;align-items: center;background-color: white;padding-right: 0.2em;padding-left: 0.2em;position: relative;}#sk-container-id-1 div.sk-item {position: relative;z-index: 1;}#sk-container-id-1 div.sk-parallel {display: flex;align-items: stretch;justify-content: center;background-color: white;position: relative;}#sk-container-id-1 div.sk-item::before, #sk-container-id-1 div.sk-parallel-item::before {content: \"\";position: absolute;border-left: 1px solid gray;box-sizing: border-box;top: 0;bottom: 0;left: 50%;z-index: -1;}#sk-container-id-1 div.sk-parallel-item {display: flex;flex-direction: column;z-index: 1;position: relative;background-color: white;}#sk-container-id-1 div.sk-parallel-item:first-child::after {align-self: flex-end;width: 50%;}#sk-container-id-1 div.sk-parallel-item:last-child::after {align-self: flex-start;width: 50%;}#sk-container-id-1 div.sk-parallel-item:only-child::after {width: 0;}#sk-container-id-1 div.sk-dashed-wrapped {border: 1px dashed gray;margin: 0 0.4em 0.5em 0.4em;box-sizing: border-box;padding-bottom: 0.4em;background-color: white;}#sk-container-id-1 div.sk-label label {font-family: monospace;font-weight: bold;display: inline-block;line-height: 1.2em;}#sk-container-id-1 div.sk-label-container {text-align: center;}#sk-container-id-1 div.sk-container {/* jupyter's `normalize.less` sets `[hidden] { display: none; }` but bootstrap.min.css set `[hidden] { display: none !important; }` so we also need the `!important` here to be able to override the default hidden behavior on the sphinx rendered scikit-learn.org. See: https://github.com/scikit-learn/scikit-learn/issues/21755 */display: inline-block !important;position: relative;}#sk-container-id-1 div.sk-text-repr-fallback {display: none;}</style><div id=\"sk-container-id-1\" class=\"sk-top-container\"><div class=\"sk-text-repr-fallback\"><pre>Pipeline(steps=[(&#x27;scaler&#x27;, StandardScaler()),\n",
       "                (&#x27;classifier&#x27;, LogisticRegression())])</pre><b>In a Jupyter environment, please rerun this cell to show the HTML representation or trust the notebook. <br />On GitHub, the HTML representation is unable to render, please try loading this page with nbviewer.org.</b></div><div class=\"sk-container\" hidden><div class=\"sk-item sk-dashed-wrapped\"><div class=\"sk-label-container\"><div class=\"sk-label sk-toggleable\"><input class=\"sk-toggleable__control sk-hidden--visually\" id=\"sk-estimator-id-1\" type=\"checkbox\" ><label for=\"sk-estimator-id-1\" class=\"sk-toggleable__label sk-toggleable__label-arrow\">Pipeline</label><div class=\"sk-toggleable__content\"><pre>Pipeline(steps=[(&#x27;scaler&#x27;, StandardScaler()),\n",
       "                (&#x27;classifier&#x27;, LogisticRegression())])</pre></div></div></div><div class=\"sk-serial\"><div class=\"sk-item\"><div class=\"sk-estimator sk-toggleable\"><input class=\"sk-toggleable__control sk-hidden--visually\" id=\"sk-estimator-id-2\" type=\"checkbox\" ><label for=\"sk-estimator-id-2\" class=\"sk-toggleable__label sk-toggleable__label-arrow\">StandardScaler</label><div class=\"sk-toggleable__content\"><pre>StandardScaler()</pre></div></div></div><div class=\"sk-item\"><div class=\"sk-estimator sk-toggleable\"><input class=\"sk-toggleable__control sk-hidden--visually\" id=\"sk-estimator-id-3\" type=\"checkbox\" ><label for=\"sk-estimator-id-3\" class=\"sk-toggleable__label sk-toggleable__label-arrow\">LogisticRegression</label><div class=\"sk-toggleable__content\"><pre>LogisticRegression()</pre></div></div></div></div></div></div></div>"
      ],
      "text/plain": [
       "Pipeline(steps=[('scaler', StandardScaler()),\n",
       "                ('classifier', LogisticRegression())])"
      ]
     },
     "execution_count": 35,
     "metadata": {},
     "output_type": "execute_result"
    }
   ],
   "source": [
    "pipeline.fit(xtrain,ytrain)"
   ]
  },
  {
   "cell_type": "code",
   "execution_count": 36,
   "id": "4573f7fd",
   "metadata": {
    "execution": {
     "iopub.execute_input": "2025-04-26T14:40:00.368895Z",
     "iopub.status.busy": "2025-04-26T14:40:00.368508Z",
     "iopub.status.idle": "2025-04-26T14:40:00.378482Z",
     "shell.execute_reply": "2025-04-26T14:40:00.377639Z"
    },
    "papermill": {
     "duration": 0.045183,
     "end_time": "2025-04-26T14:40:00.381399",
     "exception": false,
     "start_time": "2025-04-26T14:40:00.336216",
     "status": "completed"
    },
    "tags": []
   },
   "outputs": [],
   "source": [
    "x_pred = pipeline.predict(xtest)"
   ]
  },
  {
   "cell_type": "code",
   "execution_count": 37,
   "id": "cc3bbfd8",
   "metadata": {
    "execution": {
     "iopub.execute_input": "2025-04-26T14:40:00.425845Z",
     "iopub.status.busy": "2025-04-26T14:40:00.425501Z",
     "iopub.status.idle": "2025-04-26T14:40:00.435021Z",
     "shell.execute_reply": "2025-04-26T14:40:00.433850Z"
    },
    "papermill": {
     "duration": 0.030686,
     "end_time": "2025-04-26T14:40:00.437304",
     "exception": false,
     "start_time": "2025-04-26T14:40:00.406618",
     "status": "completed"
    },
    "tags": []
   },
   "outputs": [
    {
     "name": "stdout",
     "output_type": "stream",
     "text": [
      "Accuracy: 0.9074941451990632\n"
     ]
    }
   ],
   "source": [
    "from sklearn.metrics import accuracy_score, classification_report\n",
    "print(\"Accuracy:\", accuracy_score(ytest, x_pred))"
   ]
  }
 ],
 "metadata": {
  "kaggle": {
   "accelerator": "none",
   "dataSources": [
    {
     "datasetId": 3523739,
     "sourceId": 6144787,
     "sourceType": "datasetVersion"
    }
   ],
   "dockerImageVersionId": 31012,
   "isGpuEnabled": false,
   "isInternetEnabled": true,
   "language": "python",
   "sourceType": "notebook"
  },
  "kernelspec": {
   "display_name": "Python 3 (ipykernel)",
   "language": "python",
   "name": "python3"
  },
  "language_info": {
   "codemirror_mode": {
    "name": "ipython",
    "version": 3
   },
   "file_extension": ".py",
   "mimetype": "text/x-python",
   "name": "python",
   "nbconvert_exporter": "python",
   "pygments_lexer": "ipython3",
   "version": "3.12.3"
  },
  "papermill": {
   "default_parameters": {},
   "duration": 14.766183,
   "end_time": "2025-04-26T14:40:01.277580",
   "environment_variables": {},
   "exception": null,
   "input_path": "__notebook__.ipynb",
   "output_path": "__notebook__.ipynb",
   "parameters": {},
   "start_time": "2025-04-26T14:39:46.511397",
   "version": "2.6.0"
  }
 },
 "nbformat": 4,
 "nbformat_minor": 5
}
